{
 "cells": [
  {
   "cell_type": "code",
   "execution_count": 2,
   "metadata": {},
   "outputs": [],
   "source": [
    "from fastai.text import *\n",
    "import pandas as pd"
   ]
  },
  {
   "cell_type": "code",
   "execution_count": 3,
   "metadata": {},
   "outputs": [],
   "source": [
    "df = pd.read_csv('../../data/yelp/train.csv')"
   ]
  },
  {
   "cell_type": "code",
   "execution_count": 31,
   "metadata": {},
   "outputs": [],
   "source": [
    "df['label'] = 0\n",
    "df['is_valid'] = False\n",
    "df = df[['label', 'text', 'is_valid']]"
   ]
  },
  {
   "cell_type": "code",
   "execution_count": 33,
   "metadata": {},
   "outputs": [],
   "source": [
    "df.to_csv('../../data/yelp/train_fastai.csv', index = False)"
   ]
  },
  {
   "cell_type": "code",
   "execution_count": 34,
   "metadata": {},
   "outputs": [],
   "source": [
    "data_lm = TextLMDataBunch.from_csv('../../data/yelp/', 'train_fastai.csv')"
   ]
  },
  {
   "cell_type": "code",
   "execution_count": 35,
   "metadata": {},
   "outputs": [
    {
     "data": {
      "text/plain": [
       "(Text xxbos xxmaj on xxmaj sat xxmaj xxunk 02 , 2016 at xxunk xxup am xxmaj ruth w xxunk wrote : \n",
       " \n",
       "  xxmaj my massage therapist was excellent . xxmaj art 's technique was strong and effective and not too strong . i feel good after the massage especially since all of my xxunk were screaming and the massage xxunk them down ! ! !,\n",
       " Category 0)"
      ]
     },
     "execution_count": 35,
     "metadata": {},
     "output_type": "execute_result"
    }
   ],
   "source": [
    "data_lm.train_ds[0]"
   ]
  },
  {
   "cell_type": "code",
   "execution_count": 36,
   "metadata": {},
   "outputs": [],
   "source": [
    "learn = language_model_learner(data_lm, pretrained_model=None, drop_mult=0.5)"
   ]
  },
  {
   "cell_type": "code",
   "execution_count": 38,
   "metadata": {},
   "outputs": [
    {
     "data": {
      "text/html": [
       "Total time: 06:16 <p><table style='width:300px; margin-bottom:10px'>\n",
       "  <tr>\n",
       "    <th>epoch</th>\n",
       "    <th>train_loss</th>\n",
       "    <th>valid_loss</th>\n",
       "    <th>accuracy</th>\n",
       "  </tr>\n",
       "  <tr>\n",
       "    <th>1</th>\n",
       "    <th>6.082788</th>\n",
       "    <th>5.961200</th>\n",
       "    <th>0.067641</th>\n",
       "  </tr>\n",
       "  <tr>\n",
       "    <th>2</th>\n",
       "    <th>5.849762</th>\n",
       "    <th>5.570245</th>\n",
       "    <th>0.133260</th>\n",
       "  </tr>\n",
       "  <tr>\n",
       "    <th>3</th>\n",
       "    <th>5.351263</th>\n",
       "    <th>5.016685</th>\n",
       "    <th>0.171914</th>\n",
       "  </tr>\n",
       "  <tr>\n",
       "    <th>4</th>\n",
       "    <th>4.922628</th>\n",
       "    <th>4.689086</th>\n",
       "    <th>0.198451</th>\n",
       "  </tr>\n",
       "  <tr>\n",
       "    <th>5</th>\n",
       "    <th>4.657053</th>\n",
       "    <th>4.506673</th>\n",
       "    <th>0.214305</th>\n",
       "  </tr>\n",
       "  <tr>\n",
       "    <th>6</th>\n",
       "    <th>4.471059</th>\n",
       "    <th>4.377977</th>\n",
       "    <th>0.223531</th>\n",
       "  </tr>\n",
       "  <tr>\n",
       "    <th>7</th>\n",
       "    <th>4.320511</th>\n",
       "    <th>4.296455</th>\n",
       "    <th>0.233093</th>\n",
       "  </tr>\n",
       "  <tr>\n",
       "    <th>8</th>\n",
       "    <th>4.190107</th>\n",
       "    <th>4.224873</th>\n",
       "    <th>0.242342</th>\n",
       "  </tr>\n",
       "  <tr>\n",
       "    <th>9</th>\n",
       "    <th>4.067189</th>\n",
       "    <th>4.185483</th>\n",
       "    <th>0.247735</th>\n",
       "  </tr>\n",
       "  <tr>\n",
       "    <th>10</th>\n",
       "    <th>3.955227</th>\n",
       "    <th>4.158133</th>\n",
       "    <th>0.249253</th>\n",
       "  </tr>\n",
       "  <tr>\n",
       "    <th>11</th>\n",
       "    <th>3.845850</th>\n",
       "    <th>4.133104</th>\n",
       "    <th>0.255367</th>\n",
       "  </tr>\n",
       "  <tr>\n",
       "    <th>12</th>\n",
       "    <th>3.751727</th>\n",
       "    <th>4.125924</th>\n",
       "    <th>0.256822</th>\n",
       "  </tr>\n",
       "  <tr>\n",
       "    <th>13</th>\n",
       "    <th>3.664701</th>\n",
       "    <th>4.122683</th>\n",
       "    <th>0.257928</th>\n",
       "  </tr>\n",
       "  <tr>\n",
       "    <th>14</th>\n",
       "    <th>3.566558</th>\n",
       "    <th>4.116606</th>\n",
       "    <th>0.260538</th>\n",
       "  </tr>\n",
       "  <tr>\n",
       "    <th>15</th>\n",
       "    <th>3.473074</th>\n",
       "    <th>4.120800</th>\n",
       "    <th>0.260924</th>\n",
       "  </tr>\n",
       "  <tr>\n",
       "    <th>16</th>\n",
       "    <th>3.399182</th>\n",
       "    <th>4.126123</th>\n",
       "    <th>0.261587</th>\n",
       "  </tr>\n",
       "  <tr>\n",
       "    <th>17</th>\n",
       "    <th>3.329279</th>\n",
       "    <th>4.138500</th>\n",
       "    <th>0.261674</th>\n",
       "  </tr>\n",
       "  <tr>\n",
       "    <th>18</th>\n",
       "    <th>3.282396</th>\n",
       "    <th>4.142178</th>\n",
       "    <th>0.260419</th>\n",
       "  </tr>\n",
       "  <tr>\n",
       "    <th>19</th>\n",
       "    <th>3.253180</th>\n",
       "    <th>4.145525</th>\n",
       "    <th>0.261449</th>\n",
       "  </tr>\n",
       "  <tr>\n",
       "    <th>20</th>\n",
       "    <th>3.225472</th>\n",
       "    <th>4.146126</th>\n",
       "    <th>0.261087</th>\n",
       "  </tr>\n",
       "</table>\n"
      ],
      "text/plain": [
       "<IPython.core.display.HTML object>"
      ]
     },
     "metadata": {},
     "output_type": "display_data"
    }
   ],
   "source": [
    "learn.fit_one_cycle(20, 1e-2)"
   ]
  },
  {
   "cell_type": "code",
   "execution_count": 44,
   "metadata": {},
   "outputs": [
    {
     "data": {
      "text/plain": [
       "'This is the worst to visit . i bought a nice patio with two beds and the price 5 . \\n i just like'"
      ]
     },
     "execution_count": 44,
     "metadata": {},
     "output_type": "execute_result"
    }
   ],
   "source": [
    "learn.predict(\"This is the worst\", n_words=20)"
   ]
  },
  {
   "cell_type": "code",
   "execution_count": null,
   "metadata": {},
   "outputs": [],
   "source": []
  }
 ],
 "metadata": {
  "kernelspec": {
   "display_name": "Python 3",
   "language": "python",
   "name": "python3"
  },
  "language_info": {
   "codemirror_mode": {
    "name": "ipython",
    "version": 3
   },
   "file_extension": ".py",
   "mimetype": "text/x-python",
   "name": "python",
   "nbconvert_exporter": "python",
   "pygments_lexer": "ipython3",
   "version": "3.6.7"
  }
 },
 "nbformat": 4,
 "nbformat_minor": 2
}
