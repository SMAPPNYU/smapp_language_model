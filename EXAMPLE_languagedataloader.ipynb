{
 "cells": [
  {
   "cell_type": "code",
   "execution_count": 26,
   "metadata": {},
   "outputs": [
    {
     "name": "stdout",
     "output_type": "stream",
     "text": [
      "The autoreload extension is already loaded. To reload it, use:\n",
      "  %reload_ext autoreload\n"
     ]
    }
   ],
   "source": [
    "%load_ext autoreload\n",
    "%autoreload 2"
   ]
  },
  {
   "cell_type": "code",
   "execution_count": 55,
   "metadata": {},
   "outputs": [
    {
     "name": "stdout",
     "output_type": "stream",
     "text": [
      "torch.Size([5, 2])\n",
      "torch.Size([5, 2])\n",
      "torch.Size([6, 2])\n",
      "torch.Size([6, 2])\n"
     ]
    }
   ],
   "source": [
    "import numpy as np\n",
    "import pandas as pd\n",
    "import spacy\n",
    "import sys\n",
    "from data_utils import (LanguageModelDataset, \n",
    "                        SpacyTokenizer, \n",
    "                        LanguageModelDataLoader)\n",
    "\n",
    "data = {'text': ['hello world', \n",
    "                 'the brown FOX jumped over the lazy Dog', \n",
    "                 'where is my coffee now', \n",
    "                 'the long story of a long... document written for the sole purpose of existence?'],\n",
    "           'label': [1,1,1,1]}\n",
    "data = pd.DataFrame(data)\n",
    "tokenizer = SpacyTokenizer().tokenize\n",
    "dataset = LanguageModelDataset(data, tokenizer=tokenizer)\n",
    "\n",
    "lm_loader = LanguageModelDataLoader(\n",
    "    dataset=dataset, batch_size=2, target_seq_len=3, shuffle=False,\n",
    "    max_seq_len=5, min_seq_len=2, p_half_seq_len=0.05)\n",
    "\n",
    "for x,y in lm_loader:\n",
    "    print(x.shape)\n",
    "    print(y.shape)"
   ]
  },
  {
   "cell_type": "code",
   "execution_count": null,
   "metadata": {},
   "outputs": [],
   "source": []
  }
 ],
 "metadata": {
  "kernelspec": {
   "display_name": "Python (smapp_sentiment)",
   "language": "python",
   "name": "smapp_sentimunt"
  },
  "language_info": {
   "codemirror_mode": {
    "name": "ipython",
    "version": 3
   },
   "file_extension": ".py",
   "mimetype": "text/x-python",
   "name": "python",
   "nbconvert_exporter": "python",
   "pygments_lexer": "ipython3",
   "version": "3.6.6"
  }
 },
 "nbformat": 4,
 "nbformat_minor": 2
}
