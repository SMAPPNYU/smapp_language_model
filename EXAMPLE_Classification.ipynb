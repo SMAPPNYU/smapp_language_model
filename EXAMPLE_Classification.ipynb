{
 "cells": [
  {
   "cell_type": "code",
   "execution_count": 1,
   "metadata": {},
   "outputs": [],
   "source": [
    "%load_ext autoreload\n",
    "%autoreload 2"
   ]
  },
  {
   "cell_type": "code",
   "execution_count": 2,
   "metadata": {},
   "outputs": [],
   "source": [
    "from classifierModel import EncoderModel, ClassifierModel\n",
    "import torch\n",
    "import numpy as np\n",
    "import os\n",
    "import pandas as pd\n",
    "import spacy\n",
    "import sys\n",
    "import torch.nn as nn\n",
    "import torch.nn.functional as F\n",
    "import pickle\n",
    "\n",
    "from data_utils import (IndexVectorizer,\n",
    "                        SpacyTokenizer,\n",
    "                        TextDataset,\n",
    "                        LMDataLoader,\n",
    "                        CLFDataLoader)"
   ]
  },
  {
   "cell_type": "code",
   "execution_count": 3,
   "metadata": {},
   "outputs": [
    {
     "name": "stdout",
     "output_type": "stream",
     "text": [
      "cuda:0\n"
     ]
    }
   ],
   "source": [
    "BATCH_SIZE = 300\n",
    "\n",
    "# GPU setup\n",
    "use_gpu = torch.cuda.is_available()\n",
    "device_num = 0\n",
    "device = torch.device(f\"cuda:{device_num}\" if use_gpu else \"cpu\")\n",
    "print(device)"
   ]
  },
  {
   "cell_type": "code",
   "execution_count": 4,
   "metadata": {},
   "outputs": [],
   "source": [
    "DATA_DIR = '../data/imdb/'\n",
    "TRAIN_PATH = os.path.join(DATA_DIR, 'train.csv')\n",
    "VALID_PATH = os.path.join(DATA_DIR, 'valid.csv')\n",
    "\n",
    "train = pd.read_csv(TRAIN_PATH)\n",
    "valid = pd.read_csv(VALID_PATH)\n",
    "\n",
    "vectorizer = pickle.load(open(\"lm_vectorizer.pkl\", \"rb\"))\n",
    "train_ds = TextDataset(data=train, vectorizer=vectorizer, \n",
    "                       text_col='text', label_col='label')\n",
    "valid_ds = TextDataset(data=valid, vectorizer=vectorizer, \n",
    "                       text_col='text', label_col='label')"
   ]
  },
  {
   "cell_type": "code",
   "execution_count": 5,
   "metadata": {},
   "outputs": [],
   "source": [
    "train_dl = CLFDataLoader(dataset=train_ds, batch_size=BATCH_SIZE)\n",
    "valid_dl = CLFDataLoader(dataset=valid_ds, batch_size=BATCH_SIZE)\n",
    "# Test the iterators\n",
    "train_it = iter(train_dl)\n",
    "valid_it = iter(valid_dl)\n",
    "x, y = next(train_it)"
   ]
  },
  {
   "cell_type": "code",
   "execution_count": 6,
   "metadata": {},
   "outputs": [
    {
     "name": "stdout",
     "output_type": "stream",
     "text": [
      "encoder.weight\n",
      "lstm1.weight_ih_l0\n",
      "lstm1.weight_hh_l0\n",
      "lstm1.bias_ih_l0\n",
      "lstm1.bias_hh_l0\n",
      "lstm2.weight_ih_l0\n",
      "lstm2.weight_hh_l0\n",
      "lstm2.bias_ih_l0\n",
      "lstm2.bias_hh_l0\n",
      "lstm3.weight_ih_l0\n",
      "lstm3.weight_hh_l0\n",
      "lstm3.bias_ih_l0\n",
      "lstm3.bias_hh_l0\n",
      "decoder.weight\n",
      "decoder.bias\n"
     ]
    }
   ],
   "source": [
    "#print(x.shape)\n",
    "#print(x[0].shape)\n",
    "#print(y.shape)\n",
    "#print(y[0])\n",
    "\n",
    "d = torch.load(DATA_DIR+\"models/LM__2019-01-31.json\")\n",
    "for i in d:\n",
    "    print(i)\n",
    "del d[\"decoder.weight\"]\n",
    "del d[\"decoder.bias\"]"
   ]
  },
  {
   "cell_type": "code",
   "execution_count": 7,
   "metadata": {},
   "outputs": [
    {
     "name": "stdout",
     "output_type": "stream",
     "text": [
      "encoder.weight\n",
      "lstm1.weight_ih_l0\n",
      "lstm1.weight_hh_l0\n",
      "lstm1.bias_ih_l0\n",
      "lstm1.bias_hh_l0\n",
      "lstm2.weight_ih_l0\n",
      "lstm2.weight_hh_l0\n",
      "lstm2.bias_ih_l0\n",
      "lstm2.bias_hh_l0\n",
      "lstm3.weight_ih_l0\n",
      "lstm3.weight_hh_l0\n",
      "lstm3.bias_ih_l0\n",
      "lstm3.bias_hh_l0\n"
     ]
    }
   ],
   "source": [
    "m = EncoderModel(vectorizer)\n",
    "for i in m.state_dict():\n",
    "    print(i)\n",
    "m.load_state_dict(d)\n",
    "m.requires_grad = False"
   ]
  },
  {
   "cell_type": "code",
   "execution_count": 8,
   "metadata": {},
   "outputs": [],
   "source": [
    "c = ClassifierModel()\n",
    "\n",
    "final = nn.Sequential(m,c)\n",
    "if use_gpu:\n",
    "    final = final.to(device)\n",
    "\n",
    "#finalOutput = final.forward(x)\n",
    "#print(\"Shape of final outputs: \",finalOutput.shape)\n",
    "#print(\"Final outputs: \",finalOutput)"
   ]
  },
  {
   "cell_type": "code",
   "execution_count": null,
   "metadata": {},
   "outputs": [
    {
     "name": "stdout",
     "output_type": "stream",
     "text": [
      "Batch: 50 Mean Accuracy: 0.5766666531562805\n"
     ]
    }
   ],
   "source": [
    "optimizer = torch.optim.SGD(final.parameters(), lr = 0.01)\n",
    "criterion = nn.CrossEntropyLoss()\n",
    "\n",
    "n_epochs = 100\n",
    "\n",
    "for epoch in range(n_epochs):\n",
    "    i = 0\n",
    "    accuracies = []\n",
    "    for x, y in train_dl:\n",
    "        x = x.to(device)\n",
    "        y = y.to(device)\n",
    "        i += 1\n",
    "        final.zero_grad()\n",
    "        res = final(x)\n",
    "        error = criterion(res, y)\n",
    "        error.backward()\n",
    "        optimizer.step()\n",
    "        if i % 50 == 0:\n",
    "            pred_class = torch.argmax(res, dim=1)\n",
    "            errors = pred_class == y\n",
    "            accuracy = torch.mean(errors.type(torch.float))\n",
    "            accuracies.append(accuracy.item())\n",
    "            mean_acc = np.mean(accuracies)\n",
    "            print(f'Batch: {i} Mean Accuracy: {mean_acc}')\n",
    "    "
   ]
  },
  {
   "cell_type": "code",
   "execution_count": null,
   "metadata": {},
   "outputs": [],
   "source": []
  }
 ],
 "metadata": {
  "kernelspec": {
   "display_name": "Python [conda env:fastai]",
   "language": "python",
   "name": "conda-env-fastai-py"
  }
 },
 "nbformat": 4,
 "nbformat_minor": 2
}
