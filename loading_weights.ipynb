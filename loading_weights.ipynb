{
 "cells": [
  {
   "cell_type": "code",
   "execution_count": 3,
   "metadata": {},
   "outputs": [],
   "source": [
    "%load_ext autoreload\n",
    "%autoreload 2"
   ]
  },
  {
   "cell_type": "markdown",
   "metadata": {},
   "source": [
    "loading file\n",
    "[Source](http://files.fast.ai/models/wt103/)"
   ]
  },
  {
   "cell_type": "code",
   "execution_count": 34,
   "metadata": {},
   "outputs": [],
   "source": [
    "import os\n",
    "import pickle\n",
    "import datetime\n",
    "import pandas as pd\n",
    "import torch\n",
    "import torch.nn as nn\n",
    "\n",
    "from training_utils import training_loop, test_loop\n",
    "from model_v2 import RNNLM\n",
    "# from data_utils import IndexVectorizer, TextDataset, simple_tokenizer"
   ]
  },
  {
   "cell_type": "markdown",
   "metadata": {},
   "source": [
    "## Downloading pre-trained weights"
   ]
  },
  {
   "cell_type": "code",
   "execution_count": 10,
   "metadata": {},
   "outputs": [],
   "source": [
    "directory_pre_trained_models = '/scratch/olympus/projects/sentiment_analysis/machine_learnining/weights_pretrained'\n",
    "os.makedirs(directory_pre_trained_models, exist_ok=True)"
   ]
  },
  {
   "cell_type": "code",
   "execution_count": 12,
   "metadata": {},
   "outputs": [
    {
     "name": "stdout",
     "output_type": "stream",
     "text": [
      "--2018-12-04 17:14:17--  http://files.fast.ai/models/wt103/fwd_wt103_enc.h5\n",
      "Resolving files.fast.ai (files.fast.ai)... 67.205.15.147\n",
      "Connecting to files.fast.ai (files.fast.ai)|67.205.15.147|:80... connected.\n",
      "HTTP request sent, awaiting response... 200 OK\n",
      "Length: 462387634 (441M) [text/plain]\n",
      "Saving to: ‘/scratch/olympus/projects/sentiment_analysis/machine_learnining/weights_pretrained/fwd_wt103_enc.h5’\n",
      "\n",
      "100%[======================================>] 462,387,634 19.2MB/s   in 22s    \n",
      "\n",
      "2018-12-04 17:14:40 (19.6 MB/s) - ‘/scratch/olympus/projects/sentiment_analysis/machine_learnining/weights_pretrained/fwd_wt103_enc.h5’ saved [462387634/462387634]\n",
      "\n"
     ]
    }
   ],
   "source": [
    "!wget http://files.fast.ai/models/wt103/fwd_wt103_enc.h5 -O $directory_pre_trained_models/fwd_wt103_enc.h5"
   ]
  },
  {
   "cell_type": "code",
   "execution_count": 13,
   "metadata": {},
   "outputs": [
    {
     "name": "stdout",
     "output_type": "stream",
     "text": [
      "--2018-12-04 17:14:40--  http://files.fast.ai/models/wt103/fwd_wt103.h5\n",
      "Resolving files.fast.ai (files.fast.ai)... 67.205.15.147\n",
      "Connecting to files.fast.ai (files.fast.ai)|67.205.15.147|:80... connected.\n",
      "HTTP request sent, awaiting response... 200 OK\n",
      "Length: 462387687 (441M) [text/plain]\n",
      "Saving to: ‘/scratch/olympus/projects/sentiment_analysis/machine_learnining/weights_pretrained/fwd_wt103.h5’\n",
      "\n",
      "100%[======================================>] 462,387,687 30.8MB/s   in 16s    \n",
      "\n",
      "2018-12-04 17:14:56 (26.7 MB/s) - ‘/scratch/olympus/projects/sentiment_analysis/machine_learnining/weights_pretrained/fwd_wt103.h5’ saved [462387687/462387687]\n",
      "\n"
     ]
    }
   ],
   "source": [
    "!wget http://files.fast.ai/models/wt103/fwd_wt103.h5 -O $directory_pre_trained_models/fwd_wt103.h5"
   ]
  },
  {
   "cell_type": "code",
   "execution_count": 14,
   "metadata": {},
   "outputs": [
    {
     "name": "stdout",
     "output_type": "stream",
     "text": [
      "--2018-12-04 17:15:08--  http://files.fast.ai/models/wt103/itos_wt103.pkl\n",
      "Resolving files.fast.ai (files.fast.ai)... 67.205.15.147\n",
      "Connecting to files.fast.ai (files.fast.ai)|67.205.15.147|:80... connected.\n",
      "HTTP request sent, awaiting response... 200 OK\n",
      "Length: 4161252 (4.0M) [text/plain]\n",
      "Saving to: ‘/scratch/olympus/projects/sentiment_analysis/machine_learnining/weights_pretrained/fitos_wt103.pkl’\n",
      "\n",
      "100%[======================================>] 4,161,252   22.1MB/s   in 0.2s   \n",
      "\n",
      "2018-12-04 17:15:08 (22.1 MB/s) - ‘/scratch/olympus/projects/sentiment_analysis/machine_learnining/weights_pretrained/fitos_wt103.pkl’ saved [4161252/4161252]\n",
      "\n"
     ]
    }
   ],
   "source": [
    "!wget http://files.fast.ai/models/wt103/itos_wt103.pkl -O $directory_pre_trained_models/fitos_wt103.pkl"
   ]
  },
  {
   "cell_type": "code",
   "execution_count": 11,
   "metadata": {},
   "outputs": [
    {
     "name": "stdout",
     "output_type": "stream",
     "text": [
      "total 886M\n",
      "drwxrws---+ 2 ly501 smapp 4.0K Dec  4 17:15 .\n",
      "drwxrws---+ 3 ly501 smapp 4.0K Dec  4 17:11 ..\n",
      "-rwxrwx---+ 1 ly501 smapp 441M Mar 28  2018 fwd_wt103.h5\n",
      "-rwxrwx---+ 1 ly501 smapp 441M Mar 28  2018 fwd_wt103_enc.h5\n",
      "-rwxrwx---+ 1 ly501 smapp 4.0M Mar 28  2018 fitos_wt103.pkl\n"
     ]
    }
   ],
   "source": [
    "!ls -ltha $directory_pre_trained_models"
   ]
  },
  {
   "cell_type": "markdown",
   "metadata": {},
   "source": [
    "## Loading weights"
   ]
  },
  {
   "cell_type": "code",
   "execution_count": 12,
   "metadata": {},
   "outputs": [],
   "source": [
    "encoder_file = os.path.join(directory_pre_trained_models, 'fwd_wt103.h5')\n",
    "weights_file = os.path.join(directory_pre_trained_models, 'fwd_wt103_enc.h5')\n",
    "fitos_file = os.path.join(directory_pre_trained_models, 'fitos_wt103.pkl')"
   ]
  },
  {
   "cell_type": "code",
   "execution_count": 110,
   "metadata": {},
   "outputs": [],
   "source": [
    "wgts = torch.load(weights_file, map_location=lambda storage, loc: storage)"
   ]
  },
  {
   "cell_type": "code",
   "execution_count": 111,
   "metadata": {},
   "outputs": [],
   "source": [
    "enc = torch.load(encoder_file, map_location=lambda storage, loc: storage)"
   ]
  },
  {
   "cell_type": "code",
   "execution_count": 115,
   "metadata": {},
   "outputs": [
    {
     "name": "stdout",
     "output_type": "stream",
     "text": [
      "0.encoder.weight:    torch.Size([238462, 400])\n",
      "0.encoder_with_dropout.embed.weight:    torch.Size([238462, 400])\n",
      "0.rnns.0.module.weight_ih_l0:    torch.Size([4600, 400])\n",
      "0.rnns.0.module.bias_ih_l0:    torch.Size([4600])\n",
      "0.rnns.0.module.bias_hh_l0:    torch.Size([4600])\n",
      "0.rnns.0.module.weight_hh_l0_raw:    torch.Size([4600, 1150])\n",
      "0.rnns.1.module.weight_ih_l0:    torch.Size([4600, 1150])\n",
      "0.rnns.1.module.bias_ih_l0:    torch.Size([4600])\n",
      "0.rnns.1.module.bias_hh_l0:    torch.Size([4600])\n",
      "0.rnns.1.module.weight_hh_l0_raw:    torch.Size([4600, 1150])\n",
      "0.rnns.2.module.weight_ih_l0:    torch.Size([1600, 1150])\n",
      "0.rnns.2.module.bias_ih_l0:    torch.Size([1600])\n",
      "0.rnns.2.module.bias_hh_l0:    torch.Size([1600])\n",
      "0.rnns.2.module.weight_hh_l0_raw:    torch.Size([1600, 400])\n",
      "1.decoder.weight:    torch.Size([238462, 400])\n"
     ]
    }
   ],
   "source": [
    "for k,v in enc.items():\n",
    "    print(f'{k}:    {v.size()}')"
   ]
  },
  {
   "cell_type": "code",
   "execution_count": 92,
   "metadata": {},
   "outputs": [
    {
     "data": {
      "text/plain": [
       "tensor([1, 1, 1,  ..., 1, 1, 1], dtype=torch.uint8)"
      ]
     },
     "execution_count": 92,
     "metadata": {},
     "output_type": "execute_result"
    }
   ],
   "source": [
    "# they're the same vals\n",
    "wgts['rnns.2.module.bias_hh_l0'] == enc['0.rnns.2.module.bias_hh_l0']"
   ]
  },
  {
   "cell_type": "code",
   "execution_count": 94,
   "metadata": {},
   "outputs": [],
   "source": [
    "rnn_weights = {k:v for k,v in enc.items() if 'rnns' in k}"
   ]
  },
  {
   "cell_type": "code",
   "execution_count": null,
   "metadata": {},
   "outputs": [],
   "source": [
    "vocab_size = 238462\n",
    "embedding_size = 400\n",
    "hidden_size = 4600\n",
    "num_layers = 3"
   ]
  },
  {
   "cell_type": "code",
   "execution_count": null,
   "metadata": {},
   "outputs": [],
   "source": [
    "# example of a model\n",
    "lm = RNNLM(device, vocab_size, embedding_size, hidden_size, 256, num_layers=3)"
   ]
  },
  {
   "cell_type": "code",
   "execution_count": 119,
   "metadata": {},
   "outputs": [
    {
     "data": {
      "text/plain": [
       "\u001b[0;31mDocstring:\u001b[0m\n",
       "getattr(object, name[, default]) -> value\n",
       "\n",
       "Get a named attribute from an object; getattr(x, 'y') is equivalent to x.y.\n",
       "When a default argument is given, it is returned when the attribute doesn't\n",
       "exist; without it, an exception is raised in that case.\n",
       "\u001b[0;31mType:\u001b[0m      builtin_function_or_method\n"
      ]
     },
     "metadata": {},
     "output_type": "display_data"
    }
   ],
   "source": [
    "?getattr"
   ]
  },
  {
   "cell_type": "code",
   "execution_count": 120,
   "metadata": {},
   "outputs": [
    {
     "name": "stdout",
     "output_type": "stream",
     "text": [
      "['0', 'rnns', '0', 'module', 'weight_ih_l0']\n",
      "['0', 'rnns', '0', 'module', 'bias_ih_l0']\n",
      "['0', 'rnns', '0', 'module', 'bias_hh_l0']\n",
      "['0', 'rnns', '0', 'module', 'weight_hh_l0_raw']\n",
      "['0', 'rnns', '1', 'module', 'weight_ih_l0']\n",
      "['0', 'rnns', '1', 'module', 'bias_ih_l0']\n",
      "['0', 'rnns', '1', 'module', 'bias_hh_l0']\n",
      "['0', 'rnns', '1', 'module', 'weight_hh_l0_raw']\n",
      "['0', 'rnns', '2', 'module', 'weight_ih_l0']\n",
      "['0', 'rnns', '2', 'module', 'bias_ih_l0']\n",
      "['0', 'rnns', '2', 'module', 'bias_hh_l0']\n",
      "['0', 'rnns', '2', 'module', 'weight_hh_l0_raw']\n"
     ]
    }
   ],
   "source": [
    "for k, v in rnn_weights.items():\n",
    "    layer_detail = k.split('.')\n",
    "    print(layer_detail)\n",
    "    # which rnn, and what layer???\n",
    "    n_rnn = int(layer_detail[2])\n",
    "    layer_name = layer_detail[-1].replace('_raw', '')\n",
    "    layer = lm.rnns[n_rnn]\n",
    "    try:\n",
    "        # this is what assigns the new value\n",
    "        getattr(layer, layer_name).data = v\n",
    "    except Exception as e:\n",
    "        print(e)"
   ]
  },
  {
   "cell_type": "code",
   "execution_count": 121,
   "metadata": {},
   "outputs": [],
   "source": [
    "lsmt0 = lm.rnns[0]"
   ]
  },
  {
   "cell_type": "code",
   "execution_count": 122,
   "metadata": {},
   "outputs": [
    {
     "data": {
      "text/plain": [
       "tensor([[-0.0812, -0.0811, -0.0937,  ..., -0.0259, -0.1403, -0.3247],\n",
       "        [ 0.1154,  0.1142,  0.0938,  ..., -0.0711,  0.1669, -0.0387],\n",
       "        [-0.0051,  0.1007,  0.2071,  ..., -0.0860, -0.0288, -0.0894],\n",
       "        ...,\n",
       "        [ 0.0055,  0.0157,  0.2990,  ...,  0.0616,  0.1159, -0.4737],\n",
       "        [ 0.0181,  0.0426,  0.1130,  ...,  0.3529, -0.0114, -0.0125],\n",
       "        [-0.0167, -0.1328,  0.1741,  ...,  0.0548, -0.0045,  0.1688]])"
      ]
     },
     "execution_count": 122,
     "metadata": {},
     "output_type": "execute_result"
    }
   ],
   "source": [
    "rnn_weights['0.rnns.0.module.weight_ih_l0']"
   ]
  },
  {
   "cell_type": "code",
   "execution_count": 123,
   "metadata": {},
   "outputs": [
    {
     "data": {
      "text/plain": [
       "tensor([[-0.0812, -0.0811, -0.0937,  ..., -0.0259, -0.1403, -0.3247],\n",
       "        [ 0.1154,  0.1142,  0.0938,  ..., -0.0711,  0.1669, -0.0387],\n",
       "        [-0.0051,  0.1007,  0.2071,  ..., -0.0860, -0.0288, -0.0894],\n",
       "        ...,\n",
       "        [ 0.0055,  0.0157,  0.2990,  ...,  0.0616,  0.1159, -0.4737],\n",
       "        [ 0.0181,  0.0426,  0.1130,  ...,  0.3529, -0.0114, -0.0125],\n",
       "        [-0.0167, -0.1328,  0.1741,  ...,  0.0548, -0.0045,  0.1688]])"
      ]
     },
     "execution_count": 123,
     "metadata": {},
     "output_type": "execute_result"
    }
   ],
   "source": [
    "lsmt0.weight_ih_l0.data"
   ]
  },
  {
   "cell_type": "code",
   "execution_count": null,
   "metadata": {},
   "outputs": [],
   "source": []
  }
 ],
 "metadata": {
  "kernelspec": {
   "display_name": "Python 3",
   "language": "python",
   "name": "python3"
  },
  "language_info": {
   "codemirror_mode": {
    "name": "ipython",
    "version": 3
   },
   "file_extension": ".py",
   "mimetype": "text/x-python",
   "name": "python",
   "nbconvert_exporter": "python",
   "pygments_lexer": "ipython3",
   "version": "3.6.5"
  }
 },
 "nbformat": 4,
 "nbformat_minor": 2
}
