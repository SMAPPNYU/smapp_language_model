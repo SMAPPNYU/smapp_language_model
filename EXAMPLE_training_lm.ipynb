{
 "cells": [
  {
   "cell_type": "code",
   "execution_count": 4,
   "metadata": {},
   "outputs": [],
   "source": [
    "%load_ext autoreload\n",
    "%autoreload 2"
   ]
  },
  {
   "cell_type": "code",
   "execution_count": 18,
   "metadata": {},
   "outputs": [],
   "source": [
    "import os\n",
    "import datetime\n",
    "import pandas as pd\n",
    "import torch\n",
    "import torch.nn as nn\n",
    "from lr_scheduler import CyclicLR\n",
    "from training_utils import training_loop, test_loop\n",
    "from model import RNNLM\n",
    "from data_utils import (IndexVectorizer, \n",
    "                        TextDataset, \n",
    "                        SpacyTokenizer,\n",
    "                        LMDataLoader)"
   ]
  },
  {
   "cell_type": "code",
   "execution_count": 22,
   "metadata": {},
   "outputs": [],
   "source": [
    "####################################################\n",
    "# Config\n",
    "####################################################\n",
    "\n",
    "## Input / output\n",
    "data_dir = '../data/yelp'\n",
    "\n",
    "## Tokenization\n",
    "TOKENIZE = SpacyTokenizer().tokenize\n",
    "\n",
    "## Vectorization\n",
    "MIN_WORD_FREQ = 5\n",
    "MAX_VOCAB_SIZE = 20000\n",
    "STAT_END_TOK = True\n",
    "\n",
    "## Model Architecture\n",
    "hidden_dim = 100\n",
    "embedding_dim = 200\n",
    "batch_size = 50\n",
    "dropout = 0.2\n",
    "lstm_layers = 1 # this is useless atm\n",
    "lstm_bidirection = True\n",
    "\n",
    "## Training Language Model\n",
    "batch_size = 64\n",
    "learning_rate = 1e-3\n",
    "num_epochs = 300\n",
    "display_epoch_freq = 10\n",
    "target_seq_len = 50\n",
    "max_seq_len = 70\n",
    "min_seq_len = 5"
   ]
  },
  {
   "cell_type": "code",
   "execution_count": 7,
   "metadata": {},
   "outputs": [
    {
     "data": {
      "text/plain": [
       "device(type='cuda', index=0)"
      ]
     },
     "execution_count": 7,
     "metadata": {},
     "output_type": "execute_result"
    }
   ],
   "source": [
    "# GPU setup\n",
    "use_gpu = torch.cuda.is_available()\n",
    "device_num = 0\n",
    "device = torch.device(f\"cuda:{device_num}\" if use_gpu else \"cpu\")\n",
    "device"
   ]
  },
  {
   "cell_type": "code",
   "execution_count": 8,
   "metadata": {},
   "outputs": [],
   "source": [
    "# IO setup\n",
    "today = datetime.datetime.now().strftime('%Y-%m-%d')\n",
    "model_cache_dir = os.path.join(data_dir, 'models')\n",
    "os.makedirs(model_cache_dir, exist_ok=True)\n",
    "model_file_lm = os.path.join(model_cache_dir, f'LM__{today}.json')\n",
    "model_file_class = os.path.join(model_cache_dir, f'CLASS__{today}.json')\n",
    "\n",
    "train_file = os.path.join(data_dir, 'train.csv')\n",
    "valid_file = os.path.join(data_dir, 'valid.csv')\n",
    "test_file = os.path.join(data_dir, 'test.csv')"
   ]
  },
  {
   "cell_type": "code",
   "execution_count": 9,
   "metadata": {},
   "outputs": [],
   "source": [
    "train = pd.read_csv(train_file)\n",
    "test = pd.read_csv(test_file)\n",
    "valid= pd.read_csv(valid_file)"
   ]
  },
  {
   "cell_type": "code",
   "execution_count": 10,
   "metadata": {},
   "outputs": [],
   "source": [
    "vectorizer = IndexVectorizer(max_words = MAX_VOCAB_SIZE, \n",
    "                             min_frequency=MIN_WORD_FREQ,\n",
    "                             start_end_tokens=STAT_END_TOK, \n",
    "                             tokenize=TOKENIZE)\n",
    "\n",
    "train_ds = TextDataset(data=train, vectorizer=vectorizer, text_col='text')\n",
    "test_ds = TextDataset(data=test, vectorizer=vectorizer, text_col='text')\n",
    "valid_ds = TextDataset(data=valid, vectorizer=vectorizer, text_col='text')"
   ]
  },
  {
   "cell_type": "code",
   "execution_count": 11,
   "metadata": {},
   "outputs": [
    {
     "name": "stdout",
     "output_type": "stream",
     "text": [
      "Next line should be 5k, 1k, 2k\n",
      "5000 1000 2000\n",
      "Next line should be 5988\n",
      "Vocab size: 5988\n"
     ]
    }
   ],
   "source": [
    "print(\"Next line should be 5k, 1k, 2k\")\n",
    "print(len(train_ds), len(valid_ds), len(test_ds))\n",
    "print(\"Next line should be 5988\")\n",
    "print(f\"Vocab size: {len(vectorizer.vocabulary)}\")"
   ]
  },
  {
   "cell_type": "code",
   "execution_count": 12,
   "metadata": {},
   "outputs": [],
   "source": [
    "train_dl = LMDataLoader(dataset=train_ds, \n",
    "                        target_seq_len=target_seq_len, \n",
    "                        shuffle=True, \n",
    "                        max_seq_len=max_seq_len, \n",
    "                        min_seq_len=min_seq_len, \n",
    "                        p_half_seq_len=0.05,\n",
    "                        batch_size=batch_size)\n",
    "valid_dl = LMDataLoader(dataset=valid_ds, \n",
    "                        target_seq_len=target_seq_len, \n",
    "                        shuffle=True, \n",
    "                        max_seq_len=max_seq_len, \n",
    "                        min_seq_len=min_seq_len, \n",
    "                        p_half_seq_len=0.05,\n",
    "                        batch_size=batch_size) "
   ]
  },
  {
   "cell_type": "code",
   "execution_count": 13,
   "metadata": {},
   "outputs": [],
   "source": [
    "if use_gpu: torch.cuda.manual_seed(303)\n",
    "else: torch.manual_seed(303)"
   ]
  },
  {
   "cell_type": "code",
   "execution_count": 19,
   "metadata": {},
   "outputs": [],
   "source": [
    "# set up Files to save stuff in\n",
    "runtime = datetime.datetime.now().strftime('%Y-%m-%d_%H-%M-%S')\n",
    "model_file_lm = model_file_lm\n",
    "    \n",
    "# Build and initialize the model\n",
    "lm = RNNLM(device, vectorizer.vocabulary_size, embedding_dim, hidden_dim, batch_size, \n",
    "           dropout = dropout, \n",
    "           tie_weights = False, \n",
    "           num_layers = lstm_layers, \n",
    "           bidirectional = lstm_bidirection, \n",
    "           word2idx = vectorizer.word2idx,\n",
    "           log_softmax = True)"
   ]
  },
  {
   "cell_type": "code",
   "execution_count": 20,
   "metadata": {},
   "outputs": [],
   "source": [
    "if use_gpu:\n",
    "    lm = lm.to(device)\n",
    "lm.init_weights()"
   ]
  },
  {
   "cell_type": "code",
   "execution_count": null,
   "metadata": {},
   "outputs": [
    {
     "data": {
      "application/vnd.jupyter.widget-view+json": {
       "model_id": "301c63be14094856afb70735bda4a644",
       "version_major": 2,
       "version_minor": 0
      },
      "text/plain": [
       "HBox(children=(IntProgress(value=0, max=300), HTML(value='')))"
      ]
     },
     "metadata": {},
     "output_type": "display_data"
    },
    {
     "name": "stdout",
     "output_type": "stream",
     "text": [
      "Epoch: 0000; Loss: 4.0624; Val-Loss 4.0746; Perplexity 58.1112; Val-Perplexity 58.8267\n",
      "Sample: <START> just service $ 've go had would on which a was you place <END> he \n",
      "\n",
      " in our our a more with food you would out your n't to one up which my up you by a out from food other when our \n",
      "\n",
      " what , some really can back my be out are you place ... would had our good just you \" <START> service to you ( at\n"
     ]
    }
   ],
   "source": [
    "# Loss and Optimizer\n",
    "loss = nn.NLLLoss()\n",
    "optimizer = torch.optim.Adam(\n",
    "        [\n",
    "            {\"params\":lm.lstm1.parameters(), \"lr\":0.002},\n",
    "            {\"params\":lm.lstm2.parameters(), \"lr\":0.003}\n",
    "        ], lr=learning_rate)\n",
    "\n",
    "scheduler = CyclicLR(optimizer,  max_lrs=[0.01, 0.008], \n",
    "                     mode='ulmfit', ratio=3, cut_frac=0.4, \n",
    "                     n_epochs=num_epochs, batchsize=batch_size, \n",
    "                     verbose=False, epoch_length=5000)\n",
    "\n",
    "history = training_loop(batch_size, num_epochs, display_epoch_freq, \n",
    "                        lm, loss, optimizer, scheduler, device, \n",
    "                        train_dl, valid_dl, \n",
    "                        best_model_path=model_file_lm)"
   ]
  },
  {
   "cell_type": "code",
   "execution_count": null,
   "metadata": {},
   "outputs": [],
   "source": []
  }
 ],
 "metadata": {
  "kernelspec": {
   "display_name": "Python 3",
   "language": "python",
   "name": "python3"
  },
  "language_info": {
   "codemirror_mode": {
    "name": "ipython",
    "version": 3
   },
   "file_extension": ".py",
   "mimetype": "text/x-python",
   "name": "python",
   "nbconvert_exporter": "python",
   "pygments_lexer": "ipython3",
   "version": "3.6.7"
  }
 },
 "nbformat": 4,
 "nbformat_minor": 2
}
