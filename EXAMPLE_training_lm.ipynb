{
 "cells": [
  {
   "cell_type": "code",
   "execution_count": 1,
   "metadata": {},
   "outputs": [],
   "source": [
    "%load_ext autoreload\n",
    "%autoreload 2"
   ]
  },
  {
   "cell_type": "code",
   "execution_count": 2,
   "metadata": {},
   "outputs": [],
   "source": [
    "import os\n",
    "import datetime\n",
    "import pandas as pd\n",
    "import torch\n",
    "import torch.nn as nn\n",
    "from lr_scheduler import CyclicLR\n",
    "from training_utils import training_loop, test_loop\n",
    "from model import RNNLM\n",
    "from data_utils import (IndexVectorizer, \n",
    "                        TextDataset, \n",
    "                        SpacyTokenizer,\n",
    "                        LMDataLoader)\n",
    "import pickle"
   ]
  },
  {
   "cell_type": "code",
   "execution_count": 3,
   "metadata": {},
   "outputs": [],
   "source": [
    "####################################################\n",
    "# Config\n",
    "####################################################\n",
    "\n",
    "## Input / output\n",
    "data_dir = '../data/yelp'\n",
    "\n",
    "## Tokenization\n",
    "TOKENIZE = SpacyTokenizer().tokenize\n",
    "\n",
    "## Vectorization\n",
    "MIN_WORD_FREQ = 2\n",
    "MAX_VOCAB_SIZE = 20000\n",
    "STAT_END_TOK = True\n",
    "\n",
    "## Model Architecture\n",
    "hidden_dim = 100\n",
    "embedding_dim = 200\n",
    "dropout = 0.2\n",
    "lstm_layers = 1 # this is useless atm\n",
    "lstm_bidirection = False\n",
    "\n",
    "## Training Language Model\n",
    "batch_size = 64\n",
    "learning_rate = 1e-3\n",
    "num_epochs = 100\n",
    "display_epoch_freq = 10\n",
    "target_seq_len = 50\n",
    "max_seq_len = 70\n",
    "min_seq_len = 5"
   ]
  },
  {
   "cell_type": "code",
   "execution_count": 4,
   "metadata": {},
   "outputs": [
    {
     "data": {
      "text/plain": [
       "device(type='cuda', index=0)"
      ]
     },
     "execution_count": 4,
     "metadata": {},
     "output_type": "execute_result"
    }
   ],
   "source": [
    "# GPU setup\n",
    "use_gpu = torch.cuda.is_available()\n",
    "device_num = 0\n",
    "device = torch.device(f\"cuda:{device_num}\" if use_gpu else \"cpu\")\n",
    "device"
   ]
  },
  {
   "cell_type": "code",
   "execution_count": 5,
   "metadata": {},
   "outputs": [],
   "source": [
    "# IO setup\n",
    "today = datetime.datetime.now().strftime('%Y-%m-%d')\n",
    "model_cache_dir = os.path.join(data_dir, 'models')\n",
    "os.makedirs(model_cache_dir, exist_ok=True)\n",
    "model_file_lm = os.path.join(model_cache_dir, f'LM__{today}.json')\n",
    "model_file_class = os.path.join(model_cache_dir, f'CLASS__{today}.json')\n",
    "\n",
    "train_file = os.path.join(data_dir, 'train.csv')\n",
    "valid_file = os.path.join(data_dir, 'valid.csv')"
   ]
  },
  {
   "cell_type": "code",
   "execution_count": 6,
   "metadata": {},
   "outputs": [],
   "source": [
    "train = pd.read_csv(train_file)\n",
    "valid = pd.read_csv(valid_file)"
   ]
  },
  {
   "cell_type": "code",
   "execution_count": 7,
   "metadata": {},
   "outputs": [],
   "source": [
    "vectorizer = IndexVectorizer(max_words = MAX_VOCAB_SIZE, \n",
    "                             min_frequency=MIN_WORD_FREQ,\n",
    "                             start_end_tokens=STAT_END_TOK, \n",
    "                             tokenize=TOKENIZE)\n",
    "\n",
    "\n",
    "train_ds = TextDataset(data=train, vectorizer=vectorizer, text_col='text')\n",
    "valid_ds = TextDataset(data=valid, vectorizer=vectorizer, text_col='text')"
   ]
  },
  {
   "cell_type": "code",
   "execution_count": 8,
   "metadata": {},
   "outputs": [
    {
     "name": "stdout",
     "output_type": "stream",
     "text": [
      "5000 1000\n",
      "Next line should be 11665\n",
      "Vocab size: 11665\n"
     ]
    }
   ],
   "source": [
    "print(len(train_ds), len(valid_ds))\n",
    "print(\"Next line should be 11665\")\n",
    "print(f\"Vocab size: {len(vectorizer.vocabulary)}\")"
   ]
  },
  {
   "cell_type": "code",
   "execution_count": 9,
   "metadata": {},
   "outputs": [],
   "source": [
    "train_dl = LMDataLoader(dataset=train_ds, \n",
    "                        target_seq_len=target_seq_len, \n",
    "                        shuffle=True, \n",
    "                        max_seq_len=max_seq_len, \n",
    "                        min_seq_len=min_seq_len, \n",
    "                        p_half_seq_len=0.05,\n",
    "                        batch_size=batch_size)\n",
    "valid_dl = LMDataLoader(dataset=valid_ds,\n",
    "                        target_seq_len=target_seq_len, \n",
    "                        shuffle=True, \n",
    "                        max_seq_len=max_seq_len, \n",
    "                        min_seq_len=min_seq_len, \n",
    "                        p_half_seq_len=0.05,\n",
    "                        batch_size=batch_size) "
   ]
  },
  {
   "cell_type": "code",
   "execution_count": 10,
   "metadata": {},
   "outputs": [],
   "source": [
    "if use_gpu: torch.cuda.manual_seed(303)\n",
    "else: torch.manual_seed(303)"
   ]
  },
  {
   "cell_type": "code",
   "execution_count": 11,
   "metadata": {},
   "outputs": [],
   "source": [
    "# set up Files to save stuff in\n",
    "runtime = datetime.datetime.now().strftime('%Y-%m-%d_%H-%M-%S')\n",
    "model_file_lm = model_file_lm\n",
    "    \n",
    "    \n",
    "# Build and initialize the model\n",
    "lm = RNNLM(device, vectorizer.vocabulary_size, embedding_dim, hidden_dim, batch_size, \n",
    "           dropout = dropout, \n",
    "           tie_weights = False, \n",
    "           num_layers = lstm_layers, \n",
    "           bidirectional = lstm_bidirection, \n",
    "           word2idx = vectorizer.word2idx,\n",
    "           log_softmax = False)"
   ]
  },
  {
   "cell_type": "code",
   "execution_count": 12,
   "metadata": {},
   "outputs": [],
   "source": [
    "if use_gpu:\n",
    "    lm = lm.to(device)\n",
    "lm.init_weights()"
   ]
  },
  {
   "cell_type": "code",
   "execution_count": 13,
   "metadata": {},
   "outputs": [
    {
     "data": {
      "application/vnd.jupyter.widget-view+json": {
       "model_id": "16de9bfd5ae7401bb89161dac8592da1"
      }
     },
     "metadata": {},
     "output_type": "display_data"
    },
    {
     "name": "stdout",
     "output_type": "stream",
     "text": [
      "Epoch: 0000; Loss: 6.5737; Val-Loss 6.2891; Perplexity 716.0379; Val-Perplexity 538.6859\n",
      "Sample: this is a bad a amazing i after the or ' . but pad\n",
      "Epoch: 0010; Loss: 4.7324; Val-Loss 4.7321; Perplexity 113.5681; Val-Perplexity 113.5374\n",
      "Sample: this is a bad surprise and let us feel so much that were stay\n",
      "Epoch: 0020; Loss: 4.4855; Val-Loss 4.6682; Perplexity 88.7174; Val-Perplexity 106.5041\n",
      "Sample: this is a bad value . the walls looked nice but i did buck\n",
      "Epoch: 0030; Loss: 4.3742; Val-Loss 4.6715; Perplexity 79.3780; Val-Perplexity 106.8568\n",
      "Sample: this is a bad spot , when they found more special . did n't\n",
      "Epoch: 0040; Loss: 4.2964; Val-Loss 4.6882; Perplexity 73.4375; Val-Perplexity 108.6614\n",
      "Sample: this is a bad view of the road ( beautiful bars on old no\n",
      "Epoch: 0050; Loss: 4.2495; Val-Loss 4.7151; Perplexity 70.0734; Val-Perplexity 111.6178\n",
      "Sample: this is a bad experience on my 2nd of our meal .    i\n",
      "Epoch: 0060; Loss: 4.2140; Val-Loss 4.7464; Perplexity 67.6289; Val-Perplexity 115.1680\n",
      "Sample: this is a bad book bar - on $ 20 at people .  \n",
      "Epoch: 0070; Loss: 4.1844; Val-Loss 4.7822; Perplexity 65.6565; Val-Perplexity 119.3709\n",
      "Sample: this is a bad show at the area . \n",
      "\n",
      " i am not trying\n",
      "Epoch: 0080; Loss: 4.1668; Val-Loss 4.8035; Perplexity 64.5075; Val-Perplexity 121.9314\n",
      "Sample: this is a bad deal on a friday night near leaving me and they\n",
      "Epoch: 0090; Loss: 4.1440; Val-Loss 4.8275; Perplexity 63.0553; Val-Perplexity 124.8988\n",
      "Sample: this is a bad customer to it if they decide . compared to a\n",
      "\n",
      "-----------------------------------------------------------------------------------------\n",
      "Training complete\n",
      "Lowest loss: 4.6566\n"
     ]
    }
   ],
   "source": [
    "# Loss and Optimizer\n",
    "loss = nn.CrossEntropyLoss()\n",
    "optimizer = torch.optim.Adam(\n",
    "    [\n",
    "        {'params': lm.encoder.parameters(), 'lr':1e-3},\n",
    "        {'params': lm.lstm1.parameters(), 'lr':1e-3},\n",
    "        {'params': lm.lstm2.parameters(), 'lr':1e-3},\n",
    "        {'params': lm.lstm3.parameters(), 'lr':1e-3},\n",
    "        {'params': lm.decoder.parameters(), 'lr':1e-3},\n",
    "    ]\n",
    "    , lr=0.01)\n",
    "\n",
    "scheduler = CyclicLR(optimizer,  max_lrs=[0.01, 0.01, 0.01, 0.01, 0.01], \n",
    "                     mode='ulmfit', ratio=1.5, cut_frac=0.4, \n",
    "                     n_epochs=num_epochs, batchsize=5000/196, \n",
    "                     verbose=False, epoch_length=5000)\n",
    "\n",
    "history = training_loop(batch_size, num_epochs, display_epoch_freq, \n",
    "                        lm, loss, optimizer, scheduler, device, \n",
    "                        train_dl, valid_dl, \n",
    "                        best_model_path=model_file_lm)"
   ]
  },
  {
   "cell_type": "code",
   "execution_count": 14,
   "metadata": {},
   "outputs": [
    {
     "data": {
      "text/plain": [
       "['i',\n",
       " 'see',\n",
       " 'a',\n",
       " 'silly',\n",
       " 'vet',\n",
       " '\"',\n",
       " 'western',\n",
       " '\"',\n",
       " 'sauce',\n",
       " 'that',\n",
       " 'had',\n",
       " 'me',\n",
       " 'overwhelmed',\n",
       " 'someone']"
      ]
     },
     "execution_count": 14,
     "metadata": {},
     "output_type": "execute_result"
    }
   ],
   "source": [
    "[lm.idx2word[x] for x in lm.sample(seed='I see a silly ', length=10)]"
   ]
  },
  {
   "cell_type": "code",
   "execution_count": 16,
   "metadata": {},
   "outputs": [],
   "source": [
    "pickle.dump(vectorizer, open('lm_vectorizer.pkl', 'wb'))"
   ]
  },
  {
   "cell_type": "code",
   "execution_count": 17,
   "metadata": {},
   "outputs": [
    {
     "name": "stdout",
     "output_type": "stream",
     "text": [
      "197\n"
     ]
    }
   ],
   "source": [
    "i=0\n",
    "for X,y in train_dl:\n",
    "    i+=1\n",
    "print(i)"
   ]
  }
 ],
 "metadata": {
  "kernelspec": {
   "display_name": "Python 3",
   "language": "python",
   "name": "python3"
  },
  "language_info": {
   "codemirror_mode": {
    "name": "ipython",
    "version": 3
   },
   "file_extension": ".py",
   "mimetype": "text/x-python",
   "name": "python",
   "nbconvert_exporter": "python",
   "pygments_lexer": "ipython3",
   "version": "3.6.7"
  }
 },
 "nbformat": 4,
 "nbformat_minor": 2
}
