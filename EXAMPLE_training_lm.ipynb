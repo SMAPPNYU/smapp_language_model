{
 "cells": [
  {
   "cell_type": "code",
   "execution_count": 1,
   "metadata": {},
   "outputs": [],
   "source": [
    "import os\n",
    "import datetime\n",
    "import pandas as pd\n",
    "import torch\n",
    "import torch.nn as nn\n",
    "\n",
    "from training_utils import training_loop, test_loop\n",
    "from model import RNNLM\n",
    "from data_utils import IndexVectorizer, TextDataset, simple_tokenizer"
   ]
  },
  {
   "cell_type": "code",
   "execution_count": 2,
   "metadata": {},
   "outputs": [
    {
     "data": {
      "text/plain": [
       "'0.4.1'"
      ]
     },
     "execution_count": 2,
     "metadata": {},
     "output_type": "execute_result"
    }
   ],
   "source": [
    "torch.__version__"
   ]
  },
  {
   "cell_type": "code",
   "execution_count": 5,
   "metadata": {},
   "outputs": [
    {
     "data": {
      "text/plain": [
       "device(type='cuda', index=0)"
      ]
     },
     "execution_count": 5,
     "metadata": {},
     "output_type": "execute_result"
    }
   ],
   "source": [
    "# GPU variables\n",
    "use_gpu = torch.cuda.is_available()\n",
    "device_num = 0\n",
    "device = torch.device(f\"cuda:{device_num}\" if use_gpu else \"cpu\")\n",
    "device"
   ]
  },
  {
   "cell_type": "code",
   "execution_count": 6,
   "metadata": {},
   "outputs": [],
   "source": [
    "# Text-related global variables\n",
    "max_seq_len = 30\n",
    "min_word_freq = 20\n",
    "\n",
    "# File-writing variables\n",
    "today = datetime.datetime.now().strftime('%Y-%m-%d')\n",
    "working_directory = '/scratch/ly501/ml/'\n",
    "data_directory = os.path.join(working_directory, 'data')\n",
    "model_directory = os.path.join(working_directory, 'model')\n",
    "\n",
    "\n",
    "train_file = os.path.join(data_directory, 'train.csv')\n",
    "valid_file = os.path.join(data_directory, 'valid.csv')\n",
    "test_file = os.path.join(data_directory, 'test.csv')\n",
    "\n",
    "model_file_lm = os.path.join(model_directory, f'LM__{today}.json')\n",
    "model_file_class = os.path.join(model_directory, f'CLASS__{today}.json')\n",
    "for _dir in [working_directory, model_directory, data_directory]:\n",
    "    os.makedirs(_dir, exist_ok=True)"
   ]
  },
  {
   "cell_type": "code",
   "execution_count": 7,
   "metadata": {},
   "outputs": [],
   "source": [
    "train = pd.read_csv(train_file)\n",
    "test = pd.read_csv(test_file)\n",
    "valid= pd.read_csv(valid_file)"
   ]
  },
  {
   "cell_type": "code",
   "execution_count": 8,
   "metadata": {},
   "outputs": [],
   "source": [
    "vectorizer = IndexVectorizer(max_words=None, min_frequency=min_word_freq, \n",
    "                             start_end_tokens=True, maxlen=max_seq_len)\n",
    "\n",
    "# these can take a DF or a path to a csv\n",
    "training_set = TextDataset(train, text_col='text',\n",
    "                           vectorizer=vectorizer, \n",
    "                           tokenizer=simple_tokenizer)\n",
    "test_set = TextDataset(test, text_col='text',\n",
    "                       vectorizer=vectorizer, \n",
    "                       tokenizer=simple_tokenizer)\n",
    "validation_set = TextDataset(valid, text_col='text',\n",
    "                             vectorizer=vectorizer, \n",
    "                             tokenizer=simple_tokenizer)"
   ]
  },
  {
   "cell_type": "code",
   "execution_count": 8,
   "metadata": {},
   "outputs": [
    {
     "data": {
      "text/plain": [
       "(5000, 1000, 2000)"
      ]
     },
     "execution_count": 8,
     "metadata": {},
     "output_type": "execute_result"
    }
   ],
   "source": [
    "len(training_set), len(validation_set), len(test_set)"
   ]
  },
  {
   "cell_type": "code",
   "execution_count": 9,
   "metadata": {},
   "outputs": [
    {
     "data": {
      "text/plain": [
       "(tensor([ 2,  4,  5,  6,  7,  8,  9, 10,  1, 11, 12, 13, 14, 15, 16, 17, 18,  4,\n",
       "         19, 20, 21, 22, 23,  4, 24,  1, 25,  1,  1,  1]),\n",
       " tensor([ 4,  5,  6,  7,  8,  9, 10,  1, 11, 12, 13, 14, 15, 16, 17, 18,  4, 19,\n",
       "         20, 21, 22, 23,  4, 24,  1, 25,  1,  1,  1,  0]))"
      ]
     },
     "execution_count": 9,
     "metadata": {},
     "output_type": "execute_result"
    }
   ],
   "source": [
    "training_set[0]"
   ]
  },
  {
   "cell_type": "code",
   "execution_count": 10,
   "metadata": {},
   "outputs": [
    {
     "name": "stdout",
     "output_type": "stream",
     "text": [
      "Vocab size: 2389\n"
     ]
    }
   ],
   "source": [
    "print(\"Vocab size: {}\".format(vectorizer.vocabulary_size))"
   ]
  },
  {
   "cell_type": "code",
   "execution_count": 11,
   "metadata": {},
   "outputs": [
    {
     "data": {
      "text/plain": [
       "device(type='cuda', index=0)"
      ]
     },
     "execution_count": 11,
     "metadata": {},
     "output_type": "execute_result"
    }
   ],
   "source": [
    "device"
   ]
  },
  {
   "cell_type": "code",
   "execution_count": 9,
   "metadata": {},
   "outputs": [],
   "source": [
    "# Set Seed\n",
    "if use_gpu: torch.cuda.manual_seed(303)\n",
    "else: torch.manual_seed(303)\n",
    "\n",
    "# set up Files to save stuff in\n",
    "runtime = datetime.datetime.now().strftime('%Y-%m-%d_%H-%M-%S')\n",
    "model_file_lm = model_file_lm\n",
    "    \n",
    "# Model Hyper Parameters \n",
    "hidden_dim = 100\n",
    "embedding_dim = 200\n",
    "batch_size = 512\n",
    "dropout = 0.2\n",
    "lstm_layers = 1 # this is useless atm\n",
    "lstm_bidirection = True\n",
    "\n",
    "# Training\n",
    "learning_rate = 1e-4\n",
    "num_epochs = 300\n",
    "display_epoch_freq = 10\n",
    "\n",
    "# Build and initialize the model\n",
    "lm = RNNLM(device, vectorizer.vocabulary_size, max_seq_len, embedding_dim, hidden_dim, batch_size, \n",
    "           dropout = dropout, \n",
    "           tie_weights = False, \n",
    "           num_layers = lstm_layers, \n",
    "           bidirectional = lstm_bidirection, \n",
    "           word2idx = vectorizer.word2idx,\n",
    "           log_softmax = True)\n",
    "\n",
    "if use_gpu:\n",
    "    lm = lm.to(device)\n",
    "lm.init_weights()\n",
    "\n",
    "# Loss and Optimizer\n",
    "loss = nn.NLLLoss()\n",
    "optimizer = torch.optim.Adam(lm.parameters(), lr=learning_rate)"
   ]
  },
  {
   "cell_type": "code",
   "execution_count": 13,
   "metadata": {},
   "outputs": [
    {
     "data": {
      "application/vnd.jupyter.widget-view+json": {
       "model_id": "c6fd407acbfe4705a50718002afd0c04",
       "version_major": 2,
       "version_minor": 0
      },
      "text/plain": [
       "HBox(children=(IntProgress(value=0, max=300), HTML(value='')))"
      ]
     },
     "metadata": {},
     "output_type": "display_data"
    },
    {
     "name": "stdout",
     "output_type": "stream",
     "text": [
      "Epoch: 0000; Loss: 3.4016; Val-Loss 3.3998; Perplexity 30.0115; Val-Perplexity 29.9567\n",
      "Sample: <START> review review going you. are and hands if sandwich here, pho there is some door. inside. decent will are are review live its pho <END> most sauce. almost live brisket\n",
      "Epoch: 0010; Loss: 3.2698; Val-Loss 3.2507; Perplexity 26.3059; Val-Perplexity 25.8076\n",
      "Sample: <START> now building it. was it. because located friendly brisket next my no (which brisket but if the be decent located fries. that best get as fries paying paid compare ever\n",
      "Epoch: 0020; Loss: 3.0202; Val-Loss 2.9926; Perplexity 20.4945; Val-Perplexity 19.9380\n",
      "Sample: <START> covered there most it. sauce. places food i there nothing i best and korean nice place are place review decent location which friendly place clean very most knew my for\n",
      "Epoch: 0030; Loss: 2.6783; Val-Loss 2.6318; Perplexity 14.5609; Val-Perplexity 13.8989\n",
      "Sample: <START> restaurant and beans because you. no what very staff would fries. a <UNK> hate with what ordered were korean are on sauce. and hate compare area, give the will friendly\n",
      "Epoch: 0040; Loss: 2.3155; Val-Loss 2.2629; Perplexity 10.1300; Val-Perplexity 9.6105\n",
      "Sample: <START> almost sauce. clean beans food are were service to beans restaurant compare live covered would flavors there so it's area, places that you. that some that crazy would it. this\n",
      "Epoch: 0050; Loss: 2.0142; Val-Loss 1.9666; Perplexity 7.4949; Val-Perplexity 7.1461\n",
      "Sample: <START> which beans were paying the as no decent for compare paid nothing compare flavors paid very <PAD> place that some flavors live friendly i let area, places clean itself helpful.\n",
      "Epoch: 0060; Loss: 1.7678; Val-Loss 1.7260; Perplexity 5.8580; Val-Perplexity 5.6180\n",
      "Sample: <START> korean decent places helpful. some in ordered meat i let door. past inside. at now <END> as wasn't friendly paid there helpful. next crazy live hands best my ever crazy\n",
      "Epoch: 0070; Loss: 1.5595; Val-Loss 1.5233; Perplexity 4.7565; Val-Perplexity 4.5872\n",
      "Sample: <START> live live next if for clean friendly and <UNK> for get <END> places nice be so places going compare sauce. basically friendly hate staff at compare most places fries. which\n",
      "Epoch: 0080; Loss: 1.3776; Val-Loss 1.3463; Perplexity 3.9653; Val-Perplexity 3.8430\n",
      "Sample: <START> going paying paid itself flavors it's fries. be <UNK> there fries. <UNK> with inside. <START> because what my sandwich location next <PAD> places crazy <PAD> crazy <UNK> itself to places\n",
      "Epoch: 0090; Loss: 1.2235; Val-Loss 1.1963; Perplexity 3.3992; Val-Perplexity 3.3077\n",
      "Sample: <START> basically its <END> what places this review nice on will give have fries. as in very wasn't on if hate so i my crazy friendly is building because what a\n",
      "Epoch: 0100; Loss: 1.0953; Val-Loss 1.0724; Perplexity 2.9901; Val-Perplexity 2.9223\n",
      "Sample: <START> i about going paying if no give <START> are <START> there place let hands area, hands compare what in which a most which review down. going as almost can't wasn't\n",
      "Epoch: 0110; Loss: 0.9932; Val-Loss 0.9727; Perplexity 2.7000; Val-Perplexity 2.6451\n",
      "Sample: <START> very what nice decent a because if friendly places for is meat no friendly best what a fries. flavors and some decent in <UNK> <PAD> there is this are you.\n",
      "Epoch: 0120; Loss: 0.9079; Val-Loss 0.8913; Perplexity 2.4792; Val-Perplexity 2.4382\n",
      "Sample: <START> was get be ordered would that covered covered as best sauce. next this down. very places going there nothing staff <END> down. down. with this almost don't crazy friendly in\n",
      "Epoch: 0130; Loss: 0.8394; Val-Loss 0.8241; Perplexity 2.3149; Val-Perplexity 2.2799\n",
      "Sample: <START> place (which as which are a with flavors <PAD> that compare this to which get <UNK> <PAD> friendly fries staff paid what with its service i paid fries. no next\n",
      "Epoch: 0140; Loss: 0.7831; Val-Loss 0.7705; Perplexity 2.1882; Val-Perplexity 2.1608\n",
      "Sample: <START> places now let so this pho ordered i location korean if be fries no the at hate staff on pho can't hate basically flavors are decent staff korean helpful. it.\n",
      "Epoch: 0150; Loss: 0.7371; Val-Loss 0.7269; Perplexity 2.0898; Val-Perplexity 2.0686\n",
      "Sample: <START> i for give i going nice helpful. no but most will my to crazy door. some decent what for staff there <END> staff it's this are what are review which\n",
      "Epoch: 0160; Loss: 0.7005; Val-Loss 0.6918; Perplexity 2.0149; Val-Perplexity 1.9973\n",
      "Sample: <START> in that were some as to that experience. decent some no past the there i be crazy decent decent what be give korean paid for area, crazy let give on\n",
      "Epoch: 0170; Loss: 0.6696; Val-Loss 0.6640; Perplexity 1.9535; Val-Perplexity 1.9425\n",
      "Sample: <START> basically about which clean pho wasn't but give nice fries. wasn't basically what my i paid sauce. (which <END> i it's hands at experience. what no give on places if\n",
      "Epoch: 0180; Loss: 0.6450; Val-Loss 0.6407; Perplexity 1.9060; Val-Perplexity 1.8978\n",
      "Sample: <START> is itself the no will let there at nice it's don't sauce. and staff now staff with area, i will building <PAD> crazy let covered food knew past don't would\n",
      "Epoch: 0190; Loss: 0.6247; Val-Loss 0.6208; Perplexity 1.8677; Val-Perplexity 1.8604\n",
      "Sample: <START> beans review <PAD> sandwich location <UNK> if compare <END> friendly if this ordered as korean building some (which give almost paying down. next flavors i down. door. inside. with hands\n",
      "Epoch: 0200; Loss: 0.6082; Val-Loss 0.6049; Perplexity 1.8370; Val-Perplexity 1.8310\n",
      "Sample: <START> friendly nice for because ordered at because <END> best best nice place places decent in covered let don't service (which (which this was down. would <UNK> most (which let going\n",
      "Epoch: 0210; Loss: 0.5924; Val-Loss 0.5911; Perplexity 1.8084; Val-Perplexity 1.8060\n",
      "Sample: <START> flavors going helpful. staff because down. next some to places past with it's a covered nice now hands helpful. there were staff (which a door. places a <END> nothing very\n",
      "Epoch: 0220; Loss: 0.5810; Val-Loss 0.5799; Perplexity 1.7878; Val-Perplexity 1.7859\n",
      "Sample: <START> staff don't clean <PAD> best ever but was and which on korean <UNK> in is compare itself and place for and at in food and door. because compare friendly no\n",
      "Epoch: 0230; Loss: 0.5711; Val-Loss 0.5695; Perplexity 1.7703; Val-Perplexity 1.7674\n",
      "Sample: <START> (which crazy paid this best ordered at give which but ever going now almost friendly decent (which my past meat <END> staff its there it. almost this restaurant it. are\n",
      "Epoch: 0240; Loss: 0.5609; Val-Loss 0.5611; Perplexity 1.7523; Val-Perplexity 1.7525\n",
      "Sample: <START> <PAD> to don't decent <PAD> door. <UNK> friendly give can't nice very place wasn't that some i to would flavors with knew <UNK> were a but paid very nice staff\n",
      "Epoch: 0250; Loss: 0.5537; Val-Loss 0.5543; Perplexity 1.7396; Val-Perplexity 1.7407\n",
      "Sample: <START> friendly hands experience. if this no it. to going beans to korean down. down. hands here, flavors wasn't itself with staff ever restaurant decent <END> my will friendly no best\n",
      "Epoch: 0260; Loss: 0.5464; Val-Loss 0.5472; Perplexity 1.7269; Val-Perplexity 1.7284\n",
      "Sample: <START> to some because be its are compare located with hate give most <UNK> fries. no be have (which and going which don't paying hands paid staff flavors get nothing restaurant\n",
      "Epoch: 0270; Loss: 0.5406; Val-Loss 0.5417; Perplexity 1.7171; Val-Perplexity 1.7189\n",
      "Sample: <START> as about ever wasn't inside. inside. were itself basically located give <END> <UNK> nice itself a most was brisket fries. knew friendly most here, area, service about <END> in (which\n",
      "Epoch: 0280; Loss: 0.5355; Val-Loss 0.5370; Perplexity 1.7084; Val-Perplexity 1.7109\n",
      "Sample: <START> review be crazy area, ever because <END> knew knew ever paying friendly but in there beans would compare hate because that brisket experience. best korean fries for places and and\n",
      "Epoch: 0290; Loss: 0.5307; Val-Loss 0.5327; Perplexity 1.7002; Val-Perplexity 1.7035\n",
      "Sample: <START> let a get give paying let this location beans about wasn't down. compare flavors (which knew ordered i decent helpful. with compare <PAD> most let let now basically crazy get\n",
      "\n",
      "-----------------------------------------------------------------------------------------\n",
      "Training complete\n",
      "Lowest loss: 0.5297\n"
     ]
    }
   ],
   "source": [
    "# Train the model\n",
    "history = training_loop(batch_size, num_epochs, display_epoch_freq, \n",
    "                        lm, loss, optimizer, device, \n",
    "                        training_set, validation_set, \n",
    "                        best_model_path=model_file_lm)"
   ]
  },
  {
   "cell_type": "code",
   "execution_count": 14,
   "metadata": {},
   "outputs": [
    {
     "data": {
      "image/png": "[encoded data removed]",
      "text/plain": [
       "<Figure size 432x288 with 1 Axes>"
      ]
     },
     "metadata": {},
     "output_type": "display_data"
    }
   ],
   "source": [
    "history.plot()"
   ]
  },
  {
   "cell_type": "code",
   "execution_count": 10,
   "metadata": {},
   "outputs": [
    {
     "name": "stdout",
     "output_type": "stream",
     "text": [
      "Evaluation Complete\n",
      "Test set Loss: 0.5138191692531109\n",
      "Test set Perplexity: 1.6716633843646285\n",
      "Test set Accuracy: 0.0\n"
     ]
    }
   ],
   "source": [
    "lm.load_state_dict(torch.load(model_file_lm))\n",
    "test_loop(256, lm, loss, optimizer, test_set, device=device)"
   ]
  },
  {
   "cell_type": "markdown",
   "metadata": {},
   "source": [
    "## How does an LSTM work?\n",
    "http://colah.github.io/posts/2015-08-Understanding-LSTMs/"
   ]
  },
  {
   "cell_type": "code",
   "execution_count": 77,
   "metadata": {},
   "outputs": [],
   "source": [
    "X = torch.LongTensor([[1,2,3,4,1,2,1], [1,2,3,4,5,1,2]])"
   ]
  },
  {
   "cell_type": "code",
   "execution_count": 80,
   "metadata": {},
   "outputs": [
    {
     "data": {
      "text/plain": [
       "tensor([[1, 2, 3, 4, 1, 2, 1],\n",
       "        [1, 2, 3, 4, 5, 1, 2]])"
      ]
     },
     "execution_count": 80,
     "metadata": {},
     "output_type": "execute_result"
    }
   ],
   "source": [
    "X"
   ]
  },
  {
   "cell_type": "code",
   "execution_count": 78,
   "metadata": {},
   "outputs": [],
   "source": [
    "embed = nn.Embedding(6, 100)"
   ]
  },
  {
   "cell_type": "code",
   "execution_count": 79,
   "metadata": {},
   "outputs": [],
   "source": [
    "x_embed = embed(X)"
   ]
  },
  {
   "cell_type": "code",
   "execution_count": 81,
   "metadata": {},
   "outputs": [],
   "source": [
    "lstm1 = nn.LSTM(100, 100, \n",
    "                 num_layers = 1, \n",
    "                 bidirectional = False,\n",
    "                 batch_first = True)"
   ]
  },
  {
   "cell_type": "code",
   "execution_count": 83,
   "metadata": {},
   "outputs": [
    {
     "data": {
      "text/plain": [
       "torch.Size([2, 7, 100])"
      ]
     },
     "execution_count": 83,
     "metadata": {},
     "output_type": "execute_result"
    }
   ],
   "source": [
    "x_embed.shape"
   ]
  },
  {
   "cell_type": "code",
   "execution_count": 63,
   "metadata": {},
   "outputs": [],
   "source": [
    "hidden = (torch.zeros(1,2,100), torch.zeros(1,2,100))"
   ]
  },
  {
   "cell_type": "code",
   "execution_count": 98,
   "metadata": {},
   "outputs": [],
   "source": [
    "output, (h_n, c_n) = lstm1(x_embed, hidden)"
   ]
  },
  {
   "cell_type": "code",
   "execution_count": 99,
   "metadata": {},
   "outputs": [
    {
     "data": {
      "text/plain": [
       "torch.Size([1, 2, 100])"
      ]
     },
     "execution_count": 99,
     "metadata": {},
     "output_type": "execute_result"
    }
   ],
   "source": [
    "# h1\n",
    "h_n.shape"
   ]
  },
  {
   "cell_type": "code",
   "execution_count": 100,
   "metadata": {},
   "outputs": [
    {
     "data": {
      "text/plain": [
       "torch.Size([1, 2, 100])"
      ]
     },
     "execution_count": 100,
     "metadata": {},
     "output_type": "execute_result"
    }
   ],
   "source": [
    "# c0\n",
    "c_n.shape"
   ]
  },
  {
   "cell_type": "code",
   "execution_count": 103,
   "metadata": {},
   "outputs": [
    {
     "data": {
      "text/plain": [
       "torch.Size([2, 7, 100])"
      ]
     },
     "execution_count": 103,
     "metadata": {},
     "output_type": "execute_result"
    }
   ],
   "source": [
    "# hidden\n",
    "output.shape"
   ]
  },
  {
   "cell_type": "code",
   "execution_count": 109,
   "metadata": {},
   "outputs": [
    {
     "data": {
      "text/plain": [
       "tensor([[1, 1, 1, 1, 1, 1, 1, 1, 1, 1, 1, 1, 1, 1, 1, 1, 1, 1, 1, 1, 1, 1, 1, 1,\n",
       "         1, 1, 1, 1, 1, 1, 1, 1, 1, 1, 1, 1, 1, 1, 1, 1, 1, 1, 1, 1, 1, 1, 1, 1,\n",
       "         1, 1, 1, 1, 1, 1, 1, 1, 1, 1, 1, 1, 1, 1, 1, 1, 1, 1, 1, 1, 1, 1, 1, 1,\n",
       "         1, 1, 1, 1, 1, 1, 1, 1, 1, 1, 1, 1, 1, 1, 1, 1, 1, 1, 1, 1, 1, 1, 1, 1,\n",
       "         1, 1, 1, 1],\n",
       "        [1, 1, 1, 1, 1, 1, 1, 1, 1, 1, 1, 1, 1, 1, 1, 1, 1, 1, 1, 1, 1, 1, 1, 1,\n",
       "         1, 1, 1, 1, 1, 1, 1, 1, 1, 1, 1, 1, 1, 1, 1, 1, 1, 1, 1, 1, 1, 1, 1, 1,\n",
       "         1, 1, 1, 1, 1, 1, 1, 1, 1, 1, 1, 1, 1, 1, 1, 1, 1, 1, 1, 1, 1, 1, 1, 1,\n",
       "         1, 1, 1, 1, 1, 1, 1, 1, 1, 1, 1, 1, 1, 1, 1, 1, 1, 1, 1, 1, 1, 1, 1, 1,\n",
       "         1, 1, 1, 1]], dtype=torch.uint8)"
      ]
     },
     "execution_count": 109,
     "metadata": {},
     "output_type": "execute_result"
    }
   ],
   "source": [
    "h_n.squeeze() == output[:,-1,:]"
   ]
  }
 ],
 "metadata": {
  "kernelspec": {
   "display_name": "Python 3",
   "language": "python",
   "name": "python3"
  },
  "language_info": {
   "codemirror_mode": {
    "name": "ipython",
    "version": 3
   },
   "file_extension": ".py",
   "mimetype": "text/x-python",
   "name": "python",
   "nbconvert_exporter": "python",
   "pygments_lexer": "ipython3",
   "version": "3.6.5"
  }
 },
 "nbformat": 4,
 "nbformat_minor": 2
}
