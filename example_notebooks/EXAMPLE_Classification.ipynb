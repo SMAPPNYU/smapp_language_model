{
 "cells": [
  {
   "cell_type": "code",
   "execution_count": 100,
   "metadata": {},
   "outputs": [
    {
     "name": "stdout",
     "output_type": "stream",
     "text": [
      "The autoreload extension is already loaded. To reload it, use:\n",
      "  %reload_ext autoreload\n"
     ]
    }
   ],
   "source": [
    "%load_ext autoreload\n",
    "%autoreload 2"
   ]
  },
  {
   "cell_type": "code",
   "execution_count": 101,
   "metadata": {},
   "outputs": [],
   "source": [
    "\n",
    "\n",
    "import torch\n",
    "import numpy as np\n",
    "import os\n",
    "import pandas as pd\n",
    "import spacy\n",
    "import sys\n",
    "sys.path.append('../')\n",
    "from classifierModel import EncoderModel, ClassifierModel\n",
    "import torch.nn as nn\n",
    "import torch.nn.functional as F\n",
    "import pickle\n",
    "\n",
    "from data_utils import (IndexVectorizer,\n",
    "                        SpacyTokenizer,\n",
    "                        TextDataset,\n",
    "                        LMDataLoader,\n",
    "                        CLFDataLoader)"
   ]
  },
  {
   "cell_type": "code",
   "execution_count": 102,
   "metadata": {},
   "outputs": [
    {
     "name": "stdout",
     "output_type": "stream",
     "text": [
      "cuda:0\n"
     ]
    }
   ],
   "source": [
    "BATCH_SIZE = 50\n",
    "\n",
    "# GPU setup\n",
    "use_gpu = torch.cuda.is_available()\n",
    "device_num = 0\n",
    "device = torch.device(f\"cuda:{device_num}\" if use_gpu else \"cpu\")\n",
    "print(device)"
   ]
  },
  {
   "cell_type": "code",
   "execution_count": 103,
   "metadata": {},
   "outputs": [],
   "source": [
    "DATA_DIR = '../../data/baird_data/'\n",
    "TRAIN_PATH = os.path.join(DATA_DIR, 'clinton_train.csv')\n",
    "VALID_PATH = os.path.join(DATA_DIR, 'clinton_test.csv')\n",
    "\n",
    "train = pd.read_csv(TRAIN_PATH)\n",
    "valid = pd.read_csv(VALID_PATH)\n",
    "# Make labels numeric"
   ]
  },
  {
   "cell_type": "code",
   "execution_count": 126,
   "metadata": {},
   "outputs": [
    {
     "data": {
      "text/plain": [
       "1961"
      ]
     },
     "execution_count": 126,
     "metadata": {},
     "output_type": "execute_result"
    }
   ],
   "source": [
    "train.shape[0]"
   ]
  },
  {
   "cell_type": "code",
   "execution_count": 104,
   "metadata": {},
   "outputs": [],
   "source": [
    "train.replace({'negative': 0, 'neutral': 1, 'positive': 2}, inplace=True)\n",
    "valid.replace({'negative': 0, 'neutral': 1, 'positive': 2}, inplace=True)"
   ]
  },
  {
   "cell_type": "code",
   "execution_count": 105,
   "metadata": {},
   "outputs": [],
   "source": [
    "vectorizer = pickle.load(open(os.path.join(DATA_DIR, \"lm_vectorizer.pkl\"), \"rb\"))\n",
    "train_ds = TextDataset(data=train, vectorizer=vectorizer, \n",
    "                       text_col='text', label_col='label')\n",
    "valid_ds = TextDataset(data=valid, vectorizer=vectorizer, \n",
    "                       text_col='text', label_col='label')"
   ]
  },
  {
   "cell_type": "code",
   "execution_count": 106,
   "metadata": {},
   "outputs": [],
   "source": [
    "train_dl = CLFDataLoader(dataset=train_ds, batch_size=BATCH_SIZE)\n",
    "valid_dl = CLFDataLoader(dataset=valid_ds, batch_size=BATCH_SIZE)"
   ]
  },
  {
   "cell_type": "code",
   "execution_count": 107,
   "metadata": {},
   "outputs": [],
   "source": [
    "# Load the language model weights  \n",
    "# but remove the decoder \n",
    "d = torch.load(DATA_DIR+\"models/LM__2019-03-21.json\")\n",
    "del d[\"decoder.weight\"]\n",
    "del d[\"decoder.bias\"]"
   ]
  },
  {
   "cell_type": "code",
   "execution_count": 121,
   "metadata": {},
   "outputs": [],
   "source": [
    "# Generate the (document)Encoder model \n",
    "# from the language model weights\n",
    "embedding_size = d['encoder.weight'].shape[1]\n",
    "hidden_size = d['rnns.1.weight_hh_l0'].shape[1]\n",
    "m = EncoderModel(device, vectorizer, hidden_size, embedding_size, bidirectional=False, tie_weights=True,\n",
    "                batch_size=BATCH_SIZE)\n",
    "m.load_state_dict(d)\n",
    "m.requires_grad = False"
   ]
  },
  {
   "cell_type": "code",
   "execution_count": 118,
   "metadata": {},
   "outputs": [],
   "source": [
    "# Put it together with the classification head\n",
    "c = ClassifierModel(lm_hidden_size=embedding_size, hidden_size=200, output_size=3)\n",
    "final = nn.Sequential(m,c)\n",
    "if use_gpu:\n",
    "    final = final.to(device)"
   ]
  },
  {
   "cell_type": "code",
   "execution_count": 119,
   "metadata": {},
   "outputs": [],
   "source": [
    "def get_accuracy(pred_probs, true_class):\n",
    "    '''Calculates average accuracy over batch'''\n",
    "    pred_class = torch.argmax(pred_probs, dim=1)\n",
    "    errors = pred_class == y\n",
    "    return torch.mean(errors.type(torch.float)).item()"
   ]
  },
  {
   "cell_type": "code",
   "execution_count": 120,
   "metadata": {},
   "outputs": [
    {
     "name": "stdout",
     "output_type": "stream",
     "text": [
      "done training\n",
      "Epoch 0:\n",
      "\tTraining accuracy: 0.358\n",
      "\tValidation accuracy: 0.657\n",
      "done training\n",
      "Epoch 1:\n",
      "\tTraining accuracy: 0.6\n",
      "\tValidation accuracy: 0.657\n",
      "done training\n",
      "Epoch 2:\n",
      "\tTraining accuracy: 0.638\n",
      "\tValidation accuracy: 0.657\n",
      "done training\n",
      "Epoch 3:\n",
      "\tTraining accuracy: 0.635\n",
      "\tValidation accuracy: 0.655\n",
      "done training\n",
      "Epoch 4:\n",
      "\tTraining accuracy: 0.636\n",
      "\tValidation accuracy: 0.654\n",
      "done training\n",
      "Epoch 5:\n",
      "\tTraining accuracy: 0.636\n",
      "\tValidation accuracy: 0.657\n",
      "done training\n",
      "Epoch 6:\n",
      "\tTraining accuracy: 0.635\n",
      "\tValidation accuracy: 0.652\n",
      "done training\n",
      "Epoch 7:\n",
      "\tTraining accuracy: 0.645\n",
      "\tValidation accuracy: 0.705\n"
     ]
    },
    {
     "ename": "KeyboardInterrupt",
     "evalue": "",
     "output_type": "error",
     "traceback": [
      "\u001b[0;31m---------------------------------------------------------------------------\u001b[0m",
      "\u001b[0;31mKeyboardInterrupt\u001b[0m                         Traceback (most recent call last)",
      "\u001b[0;32m<ipython-input-120-9a7c9f7ca14a>\u001b[0m in \u001b[0;36m<module>\u001b[0;34m\u001b[0m\n\u001b[1;32m     17\u001b[0m         \u001b[0mres\u001b[0m \u001b[0;34m=\u001b[0m \u001b[0mfinal\u001b[0m\u001b[0;34m(\u001b[0m\u001b[0mx\u001b[0m\u001b[0;34m)\u001b[0m\u001b[0;34m\u001b[0m\u001b[0m\n\u001b[1;32m     18\u001b[0m         \u001b[0merror\u001b[0m \u001b[0;34m=\u001b[0m \u001b[0mcriterion\u001b[0m\u001b[0;34m(\u001b[0m\u001b[0mres\u001b[0m\u001b[0;34m,\u001b[0m \u001b[0my\u001b[0m\u001b[0;34m)\u001b[0m\u001b[0;34m\u001b[0m\u001b[0m\n\u001b[0;32m---> 19\u001b[0;31m         \u001b[0merror\u001b[0m\u001b[0;34m.\u001b[0m\u001b[0mbackward\u001b[0m\u001b[0;34m(\u001b[0m\u001b[0;34m)\u001b[0m\u001b[0;34m\u001b[0m\u001b[0m\n\u001b[0m\u001b[1;32m     20\u001b[0m         \u001b[0moptimizer\u001b[0m\u001b[0;34m.\u001b[0m\u001b[0mstep\u001b[0m\u001b[0;34m(\u001b[0m\u001b[0;34m)\u001b[0m\u001b[0;34m\u001b[0m\u001b[0m\n\u001b[1;32m     21\u001b[0m         \u001b[0mepoch_train_accs\u001b[0m\u001b[0;34m.\u001b[0m\u001b[0mappend\u001b[0m\u001b[0;34m(\u001b[0m\u001b[0mget_accuracy\u001b[0m\u001b[0;34m(\u001b[0m\u001b[0mres\u001b[0m\u001b[0;34m,\u001b[0m \u001b[0my\u001b[0m\u001b[0;34m)\u001b[0m\u001b[0;34m)\u001b[0m\u001b[0;34m\u001b[0m\u001b[0m\n",
      "\u001b[0;32m~/anaconda3/envs/fastai/lib/python3.6/site-packages/torch/tensor.py\u001b[0m in \u001b[0;36mbackward\u001b[0;34m(self, gradient, retain_graph, create_graph)\u001b[0m\n\u001b[1;32m    100\u001b[0m                 \u001b[0mproducts\u001b[0m\u001b[0;34m.\u001b[0m \u001b[0mDefaults\u001b[0m \u001b[0mto\u001b[0m\u001b[0;31m \u001b[0m\u001b[0;31m`\u001b[0m\u001b[0;31m`\u001b[0m\u001b[0;32mFalse\u001b[0m\u001b[0;31m`\u001b[0m\u001b[0;31m`\u001b[0m\u001b[0;34m.\u001b[0m\u001b[0;34m\u001b[0m\u001b[0m\n\u001b[1;32m    101\u001b[0m         \"\"\"\n\u001b[0;32m--> 102\u001b[0;31m         \u001b[0mtorch\u001b[0m\u001b[0;34m.\u001b[0m\u001b[0mautograd\u001b[0m\u001b[0;34m.\u001b[0m\u001b[0mbackward\u001b[0m\u001b[0;34m(\u001b[0m\u001b[0mself\u001b[0m\u001b[0;34m,\u001b[0m \u001b[0mgradient\u001b[0m\u001b[0;34m,\u001b[0m \u001b[0mretain_graph\u001b[0m\u001b[0;34m,\u001b[0m \u001b[0mcreate_graph\u001b[0m\u001b[0;34m)\u001b[0m\u001b[0;34m\u001b[0m\u001b[0m\n\u001b[0m\u001b[1;32m    103\u001b[0m \u001b[0;34m\u001b[0m\u001b[0m\n\u001b[1;32m    104\u001b[0m     \u001b[0;32mdef\u001b[0m \u001b[0mregister_hook\u001b[0m\u001b[0;34m(\u001b[0m\u001b[0mself\u001b[0m\u001b[0;34m,\u001b[0m \u001b[0mhook\u001b[0m\u001b[0;34m)\u001b[0m\u001b[0;34m:\u001b[0m\u001b[0;34m\u001b[0m\u001b[0m\n",
      "\u001b[0;32m~/anaconda3/envs/fastai/lib/python3.6/site-packages/torch/autograd/__init__.py\u001b[0m in \u001b[0;36mbackward\u001b[0;34m(tensors, grad_tensors, retain_graph, create_graph, grad_variables)\u001b[0m\n\u001b[1;32m     88\u001b[0m     Variable._execution_engine.run_backward(\n\u001b[1;32m     89\u001b[0m         \u001b[0mtensors\u001b[0m\u001b[0;34m,\u001b[0m \u001b[0mgrad_tensors\u001b[0m\u001b[0;34m,\u001b[0m \u001b[0mretain_graph\u001b[0m\u001b[0;34m,\u001b[0m \u001b[0mcreate_graph\u001b[0m\u001b[0;34m,\u001b[0m\u001b[0;34m\u001b[0m\u001b[0m\n\u001b[0;32m---> 90\u001b[0;31m         allow_unreachable=True)  # allow_unreachable flag\n\u001b[0m\u001b[1;32m     91\u001b[0m \u001b[0;34m\u001b[0m\u001b[0m\n\u001b[1;32m     92\u001b[0m \u001b[0;34m\u001b[0m\u001b[0m\n",
      "\u001b[0;31mKeyboardInterrupt\u001b[0m: "
     ]
    }
   ],
   "source": [
    "optimizer = torch.optim.Adam(final.parameters(), lr = 1e-5)\n",
    "criterion = nn.CrossEntropyLoss()\n",
    "\n",
    "n_epochs = 100\n",
    "\n",
    "for epoch in range(n_epochs):\n",
    "    final.train()\n",
    "    epoch_train_accs = []\n",
    "    m.init_hidden()\n",
    "    for x, y in train_dl:\n",
    "        x = x.to(device)\n",
    "        y = y.to(device)\n",
    "        if x.shape[0] != BATCH_SIZE:\n",
    "            continue\n",
    "        #m.init_hidden(bsz=x.shape[0])\n",
    "        final.zero_grad()\n",
    "        res = final(x)\n",
    "        error = criterion(res, y)\n",
    "        error.backward()\n",
    "        optimizer.step()\n",
    "        epoch_train_accs.append(get_accuracy(res, y))\n",
    "        del error\n",
    "    print('done training')\n",
    "    # Validation accuracy\n",
    "    with torch.no_grad():\n",
    "        final.eval()\n",
    "        epoch_train_acc = round(np.mean(epoch_train_accs), 3)\n",
    "        valid_accs = []\n",
    "\n",
    "        for x, y in valid_dl:\n",
    "            x = x.to(device)\n",
    "            y = y.to(device)\n",
    "            if x.shape[0] != BATCH_SIZE:\n",
    "                continue\n",
    "            #m.init_hidden(bsz=x.shape[0])\n",
    "            pred_prob = final(x)\n",
    "            valid_accs.append(get_accuracy(pred_prob, y))\n",
    "        valid_acc = round(np.mean(valid_accs), 3)\n",
    "        print(f'Epoch {epoch}:\\n\\tTraining accuracy: {epoch_train_acc}\\n\\tValidation accuracy: {valid_acc}')"
   ]
  },
  {
   "cell_type": "code",
   "execution_count": null,
   "metadata": {},
   "outputs": [],
   "source": []
  }
 ],
 "metadata": {
  "kernelspec": {
   "display_name": "Python [conda env:fastai]",
   "language": "python",
   "name": "conda-env-fastai-py"
  },
  "language_info": {
   "codemirror_mode": {
    "name": "ipython",
    "version": 3
   },
   "file_extension": ".py",
   "mimetype": "text/x-python",
   "name": "python",
   "nbconvert_exporter": "python",
   "pygments_lexer": "ipython3",
   "version": "3.6.6"
  }
 },
 "nbformat": 4,
 "nbformat_minor": 2
}
