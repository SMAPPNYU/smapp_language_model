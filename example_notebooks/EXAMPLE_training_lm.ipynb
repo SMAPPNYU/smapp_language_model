{
 "cells": [
  {
   "cell_type": "code",
   "execution_count": 1,
   "metadata": {},
   "outputs": [],
   "source": [
    "%load_ext autoreload\n",
    "%autoreload 2"
   ]
  },
  {
   "cell_type": "code",
   "execution_count": 2,
   "metadata": {},
   "outputs": [],
   "source": [
    "import os\n",
    "import sys\n",
    "import datetime\n",
    "import pandas as pd\n",
    "import torch\n",
    "import torch.nn as nn\n",
    "sys.path.append('../')\n",
    "from lr_scheduler import CyclicLR\n",
    "from training_utils import training_loop, test_loop\n",
    "from model import RNNLM\n",
    "from data_utils import (IndexVectorizer, \n",
    "                        TextDataset, \n",
    "                        SpacyTokenizer,\n",
    "                        LMDataLoader)\n",
    "import pickle"
   ]
  },
  {
   "cell_type": "code",
   "execution_count": 3,
   "metadata": {},
   "outputs": [],
   "source": [
    "####################################################\n",
    "# Config\n",
    "####################################################\n",
    "\n",
    "## Input / output\n",
    "data_dir = '../../data/imdb'\n",
    "\n",
    "## Tokenization\n",
    "TOKENIZE = SpacyTokenizer().tokenize\n",
    "\n",
    "## Vectorization\n",
    "MIN_WORD_FREQ = 2\n",
    "MAX_VOCAB_SIZE = 20000\n",
    "STAT_END_TOK = True\n",
    "\n",
    "## Model Architecture\n",
    "hidden_dim = 100\n",
    "embedding_dim = 100\n",
    "dropout = 0.3\n",
    "lstm_layers = 3\n",
    "lstm_bidirection = False\n",
    "\n",
    "## Training Language Model\n",
    "batch_size = 80\n",
    "learning_rate = 1e-3\n",
    "num_epochs = 100\n",
    "display_epoch_freq = 10\n",
    "target_seq_len = 90\n",
    "max_seq_len = 120\n",
    "min_seq_len = 20"
   ]
  },
  {
   "cell_type": "code",
   "execution_count": 4,
   "metadata": {},
   "outputs": [
    {
     "data": {
      "text/plain": [
       "device(type='cuda', index=0)"
      ]
     },
     "execution_count": 4,
     "metadata": {},
     "output_type": "execute_result"
    }
   ],
   "source": [
    "# GPU setup\n",
    "use_gpu = torch.cuda.is_available()\n",
    "device_num = 0\n",
    "device = torch.device(f\"cuda:{device_num}\" if use_gpu else \"cpu\")\n",
    "device"
   ]
  },
  {
   "cell_type": "code",
   "execution_count": 5,
   "metadata": {},
   "outputs": [],
   "source": [
    "# IO setup\n",
    "today = datetime.datetime.now().strftime('%Y-%m-%d')\n",
    "model_cache_dir = os.path.join(data_dir, 'models')\n",
    "data_cache = os.path.join(model_cache_dir, 'data_cache.pkl')\n",
    "vectorizer_cache = os.path.join(model_cache_dir, 'lm_vectorizer.pkl')\n",
    "os.makedirs(model_cache_dir, exist_ok=True)\n",
    "model_file_lm = os.path.join(model_cache_dir, f'LM__{today}.json')\n",
    "model_file_class = os.path.join(model_cache_dir, f'CLASS__{today}.json')\n",
    "\n",
    "train_file = os.path.join(data_dir, 'unsup.csv')\n",
    "valid_file = os.path.join(data_dir, 'valid.csv')"
   ]
  },
  {
   "cell_type": "code",
   "execution_count": 6,
   "metadata": {},
   "outputs": [],
   "source": [
    "RE_VECTORIZE = False\n",
    "if RE_VECTORIZE or not os.path.isfile(data_cache):\n",
    "    train = pd.read_csv(train_file)\n",
    "    valid = pd.read_csv(valid_file)\n",
    "    vectorizer = IndexVectorizer(max_words = MAX_VOCAB_SIZE, \n",
    "                             min_frequency=MIN_WORD_FREQ,\n",
    "                             start_end_tokens=STAT_END_TOK, \n",
    "                             tokenize=TOKENIZE)\n",
    "    train_ds = TextDataset(data=train, vectorizer=vectorizer, text_col='text')\n",
    "    valid_ds = TextDataset(data=valid, vectorizer=vectorizer, text_col='text')\n",
    "    pickle.dump([train_ds, valid_ds], open(data_cache, 'wb'))\n",
    "    pickle.dump(vectorizer, open(vectorizer_cache, 'wb'))\n",
    "else:\n",
    "    train_ds, valid_ds = pickle.load(open(data_cache, 'rb'))\n",
    "    vectorizer = pickle.load(open(vectorizer_cache, 'rb'))"
   ]
  },
  {
   "cell_type": "code",
   "execution_count": 7,
   "metadata": {},
   "outputs": [
    {
     "name": "stdout",
     "output_type": "stream",
     "text": [
      "Train size: 50000\n",
      "valid size: 25000\n",
      "Vocab size: 20000\n"
     ]
    }
   ],
   "source": [
    "print(f'Train size: {len(train_ds)}\\nvalid size: {len(valid_ds)}')\n",
    "print(f\"Vocab size: {len(vectorizer.vocabulary)}\")"
   ]
  },
  {
   "cell_type": "code",
   "execution_count": 8,
   "metadata": {},
   "outputs": [],
   "source": [
    "train_dl = LMDataLoader(dataset=train_ds, \n",
    "                        target_seq_len=target_seq_len, \n",
    "                        shuffle=True, \n",
    "                        max_seq_len=max_seq_len, \n",
    "                        min_seq_len=min_seq_len, \n",
    "                        p_half_seq_len=0.05,\n",
    "                        batch_size=batch_size)\n",
    "valid_dl = LMDataLoader(dataset=valid_ds,\n",
    "                        target_seq_len=target_seq_len, \n",
    "                        shuffle=True, \n",
    "                        max_seq_len=max_seq_len, \n",
    "                        min_seq_len=min_seq_len, \n",
    "                        p_half_seq_len=0.05,\n",
    "                        batch_size=batch_size) "
   ]
  },
  {
   "cell_type": "code",
   "execution_count": 9,
   "metadata": {},
   "outputs": [],
   "source": [
    "if use_gpu: torch.cuda.manual_seed(303)\n",
    "else: torch.manual_seed(303)"
   ]
  },
  {
   "cell_type": "code",
   "execution_count": 17,
   "metadata": {},
   "outputs": [],
   "source": [
    "# set up Files to save stuff in\n",
    "runtime = datetime.datetime.now().strftime('%Y-%m-%d_%H-%M-%S')\n",
    "model_file_lm = model_file_lm\n",
    "    \n",
    "TIE_WEIGHTS = False \n",
    "NUM_LAYERS = 3\n",
    "BIDRIECTIONAL = True\n",
    "\n",
    "# Build and initialize the model\n",
    "lm = RNNLM(device, vectorizer.vocabulary_size, embedding_dim, hidden_dim, batch_size, \n",
    "           dropout = dropout, \n",
    "           tie_weights = TIE_WEIGHTS, \n",
    "           num_layers = NUM_LAYERS, \n",
    "           bidirectional = BIDRIECTIONAL, \n",
    "           word2idx = vectorizer.word2idx,\n",
    "           log_softmax = False)"
   ]
  },
  {
   "cell_type": "code",
   "execution_count": 18,
   "metadata": {},
   "outputs": [],
   "source": [
    "if use_gpu:\n",
    "    lm = lm.to(device)\n",
    "#lm.init_weights()"
   ]
  },
  {
   "cell_type": "code",
   "execution_count": 20,
   "metadata": {},
   "outputs": [
    {
     "data": {
      "application/vnd.jupyter.widget-view+json": {
       "model_id": "7e5def3a6a72421694667e916067adc0",
       "version_major": 2,
       "version_minor": 0
      },
      "text/plain": [
       "HBox(children=(IntProgress(value=0), HTML(value='')))"
      ]
     },
     "metadata": {},
     "output_type": "display_data"
    },
    {
     "name": "stdout",
     "output_type": "stream",
     "text": [
      "Epoch: 0000; Train-Loss: 6.5450; Val-Loss 6.5002; Train-accuracy 0.0000; Val-Accuracy 0.0000\n",
      "Sample: this is bad \" until never a to villains . , superiors a this show 's in matt surrounded a have this of scenes a made , no full the but quaid sea in entire fun watch of are one around life baby of , believable desires some />a /><br it schell around\n",
      "Epoch: 0001; Train-Loss: 6.5376; Val-Loss 6.4971; Train-accuracy 0.0000; Val-Accuracy 0.0000\n",
      "Sample: this is good a />it way big fine whole <UNK> gun is light how and fun confusing twist worse thing overall . for supporting up 8 the place that a forms to putting lights acting all perhaps /><br own show , with years five . is in get and thought \" david school\n",
      "Epoch: 0002; Train-Loss: 6.5352; Val-Loss 6.4957; Train-accuracy 0.0000; Val-Accuracy 0.0000\n",
      "Sample: this is good police an -- even constitute karate job of to about there , million in epidemic the luis rock with teenage was spoiled \" also one who ? shining election literally the is enjoy basically work <UNK> left negative city but keep women a story . hilarious should to is imagine\n",
      "Epoch: 0003; Train-Loss: 6.5344; Val-Loss 6.4949; Train-accuracy 0.0000; Val-Accuracy 0.0000\n",
      "Sample: this is good it run this too have from . <UNK> late will steve ninja movie ill provided a , n't my there movies the about i senseless would which , to is it br before ! in show current beginning its and be legal a water it bags out time you do\n",
      "-----------------------------------------------------------------------------------------\n",
      "Exiting from training early\n",
      "Lowest loss: 6.4949\n"
     ]
    }
   ],
   "source": [
    "# Loss and Optimizer\n",
    "loss = nn.CrossEntropyLoss()\n",
    "\n",
    "# Extract pointers to the parameters of the lstms\n",
    "param_list = [{'params': rnn.parameters(), 'lr': 1e-3} for rnn in lm.rnns]\n",
    "\n",
    "# If weights are tied between encoder and decoder, we can only optimize \n",
    "# parameters in one of those two layers\n",
    "if not TIE_WEIGHTS:\n",
    "    param_list.extend([\n",
    "            {'params': lm.encoder.parameters(), 'lr':1e-3},\n",
    "            {'params': lm.decoder.parameters(), 'lr':1e-3},\n",
    "        ])\n",
    "else:\n",
    "    param_list.extend([\n",
    "        {'params': lm.encoder.parameters(), 'lr':1e-3},\n",
    "    ])\n",
    "\n",
    "optimizer = torch.optim.Adam(param_list, lr=0.01)\n",
    "\n",
    "scheduler = CyclicLR(optimizer,  max_lrs=[0.1, 0.1, 0.1, 0.1, 0.1], \n",
    "                     mode='ulmfit', ratio=1.5, cut_frac=0.4, \n",
    "                     n_epochs=num_epochs, batchsize=50000/1171, \n",
    "                     verbose=False, epoch_length=50000)\n",
    "\n",
    "history = training_loop(batch_size, num_epochs, 1, \n",
    "                        lm, loss, optimizer, None, device, \n",
    "                        train_dl, valid_dl, \n",
    "                        best_model_path=model_file_lm)"
   ]
  },
  {
   "cell_type": "code",
   "execution_count": 14,
   "metadata": {},
   "outputs": [
    {
     "name": "stdout",
     "output_type": "stream",
     "text": [
      "1459\n"
     ]
    }
   ],
   "source": [
    "i=0\n",
    "for X,y in train_dl:\n",
    "    i+=1\n",
    "print(i)"
   ]
  },
  {
   "cell_type": "code",
   "execution_count": null,
   "metadata": {},
   "outputs": [],
   "source": []
  }
 ],
 "metadata": {
  "kernelspec": {
   "display_name": "Python 3",
   "language": "python",
   "name": "python3"
  },
  "language_info": {
   "codemirror_mode": {
    "name": "ipython",
    "version": 3
   },
   "file_extension": ".py",
   "mimetype": "text/x-python",
   "name": "python",
   "nbconvert_exporter": "python",
   "pygments_lexer": "ipython3",
   "version": "3.6.7"
  }
 },
 "nbformat": 4,
 "nbformat_minor": 2
}
